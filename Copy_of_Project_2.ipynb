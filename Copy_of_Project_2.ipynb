{
  "nbformat": 4,
  "nbformat_minor": 0,
  "metadata": {
    "colab": {
      "provenance": [],
      "include_colab_link": true
    },
    "kernelspec": {
      "name": "python3",
      "display_name": "Python 3"
    },
    "language_info": {
      "name": "python"
    }
  },
  "cells": [
    {
      "cell_type": "markdown",
      "metadata": {
        "id": "view-in-github",
        "colab_type": "text"
      },
      "source": [
        "<a href=\"https://colab.research.google.com/github/rdial127/FreeThrowsCode/blob/main/Copy_of_Project_2.ipynb\" target=\"_parent\"><img src=\"https://colab.research.google.com/assets/colab-badge.svg\" alt=\"Open In Colab\"/></a>"
      ]
    },
    {
      "cell_type": "markdown",
      "source": [
        "#Project 2 (Fradulent Job Postings)"
      ],
      "metadata": {
        "id": "qeDf2eXm7lf4"
      }
    },
    {
      "cell_type": "code",
      "source": [
        "#Necessary Imports for Data Cleaning and Analysis\n",
        "import pandas as pd\n",
        "import numpy as np\n",
        "import re\n",
        "import matplotlib.pyplot as plt"
      ],
      "metadata": {
        "id": "I_2gtnXRXIDF"
      },
      "execution_count": null,
      "outputs": []
    },
    {
      "cell_type": "code",
      "source": [
        "from google.colab import drive\n",
        "drive.mount('/content/drive')\n",
        "drive_dir = '/content/drive/Shareddrives/MATH 2327 3439 - Data/'"
      ],
      "metadata": {
        "colab": {
          "base_uri": "https://localhost:8080/"
        },
        "id": "f2m6bEfocHOf",
        "outputId": "8050ed22-abd9-4ed6-e11e-e8be8c9374f1"
      },
      "execution_count": null,
      "outputs": [
        {
          "output_type": "stream",
          "name": "stdout",
          "text": [
            "Drive already mounted at /content/drive; to attempt to forcibly remount, call drive.mount(\"/content/drive\", force_remount=True).\n"
          ]
        }
      ]
    },
    {
      "cell_type": "markdown",
      "source": [
        "## Description\n",
        "This dataset contains listing information for legitimate and fradulent job postings from a variety of industrys. With the job market increasingly shifting online, this dataset offers a wealth of information capable of building machine learning models (MLM).\n",
        "\n"
      ],
      "metadata": {
        "id": "c2MtBFm27r_C"
      }
    },
    {
      "cell_type": "markdown",
      "source": [
        "### Dataset Context and Purpose\n",
        "With job hunting becoming an increasingly online activity, it's more important than ever to remain cognizant of fake job postings. This dataset thus allows analysts and researchers employed by popular online job markets create models using text data and key traits/features to predict real versus fake job descriptions."
      ],
      "metadata": {
        "id": "WOyLiFUVF9DZ"
      }
    },
    {
      "cell_type": "markdown",
      "source": [
        "### Content\n",
        "Included in this section are brief descriptions of the columns included in the dataset\n",
        "* **location** - geographical location of the job ad.\n",
        "* **department** - coporate department (i.e. sales)\n",
        "* **salary_range** - indicative salary range (e.g. \\$50,000 - \\$60,000)\n",
        "* **company_profile** - brief company description\n",
        "* **description** - details description of the job ad\n",
        "* **requirements** - enlished requirements for the job opening\n",
        "* **benefits** - enlishted offered benefits by the employer\n",
        "* **telecommuting** - true (1) for telecommuting positions\n",
        "* **has_company_logo** - true (1) is company logo is present\n",
        "* **has_questions** - true (1) if screening questions are present\n",
        "* **employment_type** - full-time, part-time, contract, etc.\n",
        "* **required_experience** - executive, entry level, intern, etc.\n",
        "* **requred_education** - doctorate, masters, bachelor's degree, etc.\n",
        "* **industry** - automotive, IT, health care, real estate, etc.\n",
        "* **function** - consulting, engineering, research, sales, etc.\n",
        "* **fradulent** - target-classification attribute. (~800 [4.47%] listings in this dataset are fake)"
      ],
      "metadata": {
        "id": "bdCvc9LMF_9N"
      }
    },
    {
      "cell_type": "markdown",
      "source": [
        "##Questions about the Data\n",
        "The following questions will help team members gain an understanding of the dataset, identify common characteristics of fradulent listings, and build a predictive model with the goal of providing more context to the question, \"how can we spot a fake job description?\"\n"
      ],
      "metadata": {
        "id": "jPhQNp6gCG7w"
      }
    },
    {
      "cell_type": "markdown",
      "source": [
        "####Familarizing Ourselves with the Dataset:\n",
        "* What are the most common department, salary range, employment type, industry, and function of the dataset? Does this different between legitmate and fradulent listings?\n",
        "* Where are real and fake job listings coming from? (location and company)\n",
        "* What is landscape of benefits, required experience, required education, and other \"additional\" details within the dataset? How does this compare across real and fake listings?\n"
      ],
      "metadata": {
        "id": "w6dVocUvGFd1"
      }
    },
    {
      "cell_type": "markdown",
      "source": [
        "####Building a Predictive Model\n",
        "* Which input columns fit our data the best in predicting the legitimacy of job listings?"
      ],
      "metadata": {
        "id": "oOlvS-M5GHh8"
      }
    },
    {
      "cell_type": "markdown",
      "source": [
        "## Data Cleaning/Modification"
      ],
      "metadata": {
        "id": "FMCyC37ZU6NC"
      }
    },
    {
      "cell_type": "markdown",
      "source": [
        "This section will detail the various data cleaning and modification tasks undertaken by team members. As you will soon see, we were dealing with primarily textual data, which required us to become creative in how we quanitified aspects of our data for use in our learning model."
      ],
      "metadata": {
        "id": "kGw-yezDU_Uu"
      }
    },
    {
      "cell_type": "markdown",
      "source": [
        "### Data Inspection/Cleaning"
      ],
      "metadata": {
        "id": "E-bHyIjRXE1R"
      }
    },
    {
      "cell_type": "code",
      "source": [
        "job_desc_df = pd.read_csv('/content/drive/Shareddrives/Project 2/Copy of cleaned_fake_job_postings.csv')"
      ],
      "metadata": {
        "id": "DN4vHd7-XV4y"
      },
      "execution_count": null,
      "outputs": []
    },
    {
      "cell_type": "code",
      "source": [
        "from google.colab import drive\n",
        "drive.mount('/content/drive')"
      ],
      "metadata": {
        "id": "Ga0vZSn3crZV",
        "colab": {
          "base_uri": "https://localhost:8080/"
        },
        "outputId": "a3ca2bab-d101-4085-f6bc-3f6717a1f8f1"
      },
      "execution_count": null,
      "outputs": [
        {
          "output_type": "stream",
          "name": "stdout",
          "text": [
            "Drive already mounted at /content/drive; to attempt to forcibly remount, call drive.mount(\"/content/drive\", force_remount=True).\n"
          ]
        }
      ]
    },
    {
      "cell_type": "code",
      "source": [
        "job_desc_df.head()"
      ],
      "metadata": {
        "id": "mnicpN3QXhsc",
        "colab": {
          "base_uri": "https://localhost:8080/",
          "height": 602
        },
        "outputId": "36d43e51-7798-4a52-b920-84a1b5218da2"
      },
      "execution_count": null,
      "outputs": [
        {
          "output_type": "execute_result",
          "data": {
            "text/plain": [
              "   Unnamed: 0  job_id                                      title  \\\n",
              "0           0       1                           Marketing Intern   \n",
              "1           1       2  Customer Service - Cloud Video Production   \n",
              "2           2       3    Commissioning Machinery Assistant (CMA)   \n",
              "3           3       4          Account Executive - Washington DC   \n",
              "4           4       5                        Bill Review Manager   \n",
              "\n",
              "             location    department salary_range  \\\n",
              "0    US, NY, New York     Marketing          NaN   \n",
              "1      NZ, , Auckland       Success          NaN   \n",
              "2       US, IA, Wever  Not Provided          NaN   \n",
              "3  US, DC, Washington         Sales          NaN   \n",
              "4  US, FL, Fort Worth  Not Provided          NaN   \n",
              "\n",
              "                                     company_profile  \\\n",
              "0  We're Food52, and we've created a groundbreaki...   \n",
              "1  90 Seconds, the worlds Cloud Video Production ...   \n",
              "2  Valor Services provides Workforce Solutions th...   \n",
              "3  Our passion for improving quality of life thro...   \n",
              "4  SpotSource Solutions LLC is a Global Human Cap...   \n",
              "\n",
              "                                         description  \\\n",
              "0  Food52, a fast-growing, James Beard Award-winn...   \n",
              "1  Organised - Focused - Vibrant - Awesome!Do you...   \n",
              "2  Our client, located in Houston, is actively se...   \n",
              "3  THE COMPANY: ESRI – Environmental Systems Rese...   \n",
              "4  JOB TITLE: Itemization Review ManagerLOCATION:...   \n",
              "\n",
              "                                        requirements  \\\n",
              "0  Experience with content management systems a m...   \n",
              "1  What we expect from you:Your key responsibilit...   \n",
              "2  Implement pre-commissioning and commissioning ...   \n",
              "3  EDUCATION: Bachelor’s or Master’s in GIS, busi...   \n",
              "4  QUALIFICATIONS:RN license in the State of Texa...   \n",
              "\n",
              "                                            benefits  ...  \\\n",
              "0                                       Not Provided  ...   \n",
              "1  What you will get from usThrough being part of...  ...   \n",
              "2                                       Not Provided  ...   \n",
              "3  Our culture is anything but corporate—we have ...  ...   \n",
              "4                              Full Benefits Offered  ...   \n",
              "\n",
              "   Standardized_Department_Media & Communications.1  \\\n",
              "0                                               0.0   \n",
              "1                                               0.0   \n",
              "2                                               0.0   \n",
              "3                                               0.0   \n",
              "4                                               0.0   \n",
              "\n",
              "   Standardized_Department_Not Provided.1  \\\n",
              "0                                     0.0   \n",
              "1                                     1.0   \n",
              "2                                     1.0   \n",
              "3                                     0.0   \n",
              "4                                     1.0   \n",
              "\n",
              "   Standardized_Department_Operations.1  \\\n",
              "0                                   0.0   \n",
              "1                                   0.0   \n",
              "2                                   0.0   \n",
              "3                                   0.0   \n",
              "4                                   0.0   \n",
              "\n",
              "  Standardized_Department_Product Management & Development.1  \\\n",
              "0                                                0.0           \n",
              "1                                                0.0           \n",
              "2                                                0.0           \n",
              "3                                                0.0           \n",
              "4                                                0.0           \n",
              "\n",
              "  Standardized_Department_Project Management.1  \\\n",
              "0                                          0.0   \n",
              "1                                          0.0   \n",
              "2                                          0.0   \n",
              "3                                          0.0   \n",
              "4                                          0.0   \n",
              "\n",
              "  Standardized_Department_Quality Assurance & Testing.1  \\\n",
              "0                                                0.0      \n",
              "1                                                0.0      \n",
              "2                                                0.0      \n",
              "3                                                0.0      \n",
              "4                                                0.0      \n",
              "\n",
              "  Standardized_Department_Research & Development.1  \\\n",
              "0                                              0.0   \n",
              "1                                              0.0   \n",
              "2                                              0.0   \n",
              "3                                              0.0   \n",
              "4                                              0.0   \n",
              "\n",
              "  Standardized_Department_Retail & Consumer.1  \\\n",
              "0                                         0.0   \n",
              "1                                         0.0   \n",
              "2                                         0.0   \n",
              "3                                         0.0   \n",
              "4                                         0.0   \n",
              "\n",
              "   Standardized_Department_Sales.1 Standardized_Department_Technology.1  \n",
              "0                              0.0                                  0.0  \n",
              "1                              0.0                                  0.0  \n",
              "2                              0.0                                  0.0  \n",
              "3                              1.0                                  0.0  \n",
              "4                              0.0                                  0.0  \n",
              "\n",
              "[5 rows x 122 columns]"
            ],
            "text/html": [
              "\n",
              "  <div id=\"df-e9ace187-e291-4c6b-b676-d353e9c5f313\" class=\"colab-df-container\">\n",
              "    <div>\n",
              "<style scoped>\n",
              "    .dataframe tbody tr th:only-of-type {\n",
              "        vertical-align: middle;\n",
              "    }\n",
              "\n",
              "    .dataframe tbody tr th {\n",
              "        vertical-align: top;\n",
              "    }\n",
              "\n",
              "    .dataframe thead th {\n",
              "        text-align: right;\n",
              "    }\n",
              "</style>\n",
              "<table border=\"1\" class=\"dataframe\">\n",
              "  <thead>\n",
              "    <tr style=\"text-align: right;\">\n",
              "      <th></th>\n",
              "      <th>Unnamed: 0</th>\n",
              "      <th>job_id</th>\n",
              "      <th>title</th>\n",
              "      <th>location</th>\n",
              "      <th>department</th>\n",
              "      <th>salary_range</th>\n",
              "      <th>company_profile</th>\n",
              "      <th>description</th>\n",
              "      <th>requirements</th>\n",
              "      <th>benefits</th>\n",
              "      <th>...</th>\n",
              "      <th>Standardized_Department_Media &amp; Communications.1</th>\n",
              "      <th>Standardized_Department_Not Provided.1</th>\n",
              "      <th>Standardized_Department_Operations.1</th>\n",
              "      <th>Standardized_Department_Product Management &amp; Development.1</th>\n",
              "      <th>Standardized_Department_Project Management.1</th>\n",
              "      <th>Standardized_Department_Quality Assurance &amp; Testing.1</th>\n",
              "      <th>Standardized_Department_Research &amp; Development.1</th>\n",
              "      <th>Standardized_Department_Retail &amp; Consumer.1</th>\n",
              "      <th>Standardized_Department_Sales.1</th>\n",
              "      <th>Standardized_Department_Technology.1</th>\n",
              "    </tr>\n",
              "  </thead>\n",
              "  <tbody>\n",
              "    <tr>\n",
              "      <th>0</th>\n",
              "      <td>0</td>\n",
              "      <td>1</td>\n",
              "      <td>Marketing Intern</td>\n",
              "      <td>US, NY, New York</td>\n",
              "      <td>Marketing</td>\n",
              "      <td>NaN</td>\n",
              "      <td>We're Food52, and we've created a groundbreaki...</td>\n",
              "      <td>Food52, a fast-growing, James Beard Award-winn...</td>\n",
              "      <td>Experience with content management systems a m...</td>\n",
              "      <td>Not Provided</td>\n",
              "      <td>...</td>\n",
              "      <td>0.0</td>\n",
              "      <td>0.0</td>\n",
              "      <td>0.0</td>\n",
              "      <td>0.0</td>\n",
              "      <td>0.0</td>\n",
              "      <td>0.0</td>\n",
              "      <td>0.0</td>\n",
              "      <td>0.0</td>\n",
              "      <td>0.0</td>\n",
              "      <td>0.0</td>\n",
              "    </tr>\n",
              "    <tr>\n",
              "      <th>1</th>\n",
              "      <td>1</td>\n",
              "      <td>2</td>\n",
              "      <td>Customer Service - Cloud Video Production</td>\n",
              "      <td>NZ, , Auckland</td>\n",
              "      <td>Success</td>\n",
              "      <td>NaN</td>\n",
              "      <td>90 Seconds, the worlds Cloud Video Production ...</td>\n",
              "      <td>Organised - Focused - Vibrant - Awesome!Do you...</td>\n",
              "      <td>What we expect from you:Your key responsibilit...</td>\n",
              "      <td>What you will get from usThrough being part of...</td>\n",
              "      <td>...</td>\n",
              "      <td>0.0</td>\n",
              "      <td>1.0</td>\n",
              "      <td>0.0</td>\n",
              "      <td>0.0</td>\n",
              "      <td>0.0</td>\n",
              "      <td>0.0</td>\n",
              "      <td>0.0</td>\n",
              "      <td>0.0</td>\n",
              "      <td>0.0</td>\n",
              "      <td>0.0</td>\n",
              "    </tr>\n",
              "    <tr>\n",
              "      <th>2</th>\n",
              "      <td>2</td>\n",
              "      <td>3</td>\n",
              "      <td>Commissioning Machinery Assistant (CMA)</td>\n",
              "      <td>US, IA, Wever</td>\n",
              "      <td>Not Provided</td>\n",
              "      <td>NaN</td>\n",
              "      <td>Valor Services provides Workforce Solutions th...</td>\n",
              "      <td>Our client, located in Houston, is actively se...</td>\n",
              "      <td>Implement pre-commissioning and commissioning ...</td>\n",
              "      <td>Not Provided</td>\n",
              "      <td>...</td>\n",
              "      <td>0.0</td>\n",
              "      <td>1.0</td>\n",
              "      <td>0.0</td>\n",
              "      <td>0.0</td>\n",
              "      <td>0.0</td>\n",
              "      <td>0.0</td>\n",
              "      <td>0.0</td>\n",
              "      <td>0.0</td>\n",
              "      <td>0.0</td>\n",
              "      <td>0.0</td>\n",
              "    </tr>\n",
              "    <tr>\n",
              "      <th>3</th>\n",
              "      <td>3</td>\n",
              "      <td>4</td>\n",
              "      <td>Account Executive - Washington DC</td>\n",
              "      <td>US, DC, Washington</td>\n",
              "      <td>Sales</td>\n",
              "      <td>NaN</td>\n",
              "      <td>Our passion for improving quality of life thro...</td>\n",
              "      <td>THE COMPANY: ESRI – Environmental Systems Rese...</td>\n",
              "      <td>EDUCATION: Bachelor’s or Master’s in GIS, busi...</td>\n",
              "      <td>Our culture is anything but corporate—we have ...</td>\n",
              "      <td>...</td>\n",
              "      <td>0.0</td>\n",
              "      <td>0.0</td>\n",
              "      <td>0.0</td>\n",
              "      <td>0.0</td>\n",
              "      <td>0.0</td>\n",
              "      <td>0.0</td>\n",
              "      <td>0.0</td>\n",
              "      <td>0.0</td>\n",
              "      <td>1.0</td>\n",
              "      <td>0.0</td>\n",
              "    </tr>\n",
              "    <tr>\n",
              "      <th>4</th>\n",
              "      <td>4</td>\n",
              "      <td>5</td>\n",
              "      <td>Bill Review Manager</td>\n",
              "      <td>US, FL, Fort Worth</td>\n",
              "      <td>Not Provided</td>\n",
              "      <td>NaN</td>\n",
              "      <td>SpotSource Solutions LLC is a Global Human Cap...</td>\n",
              "      <td>JOB TITLE: Itemization Review ManagerLOCATION:...</td>\n",
              "      <td>QUALIFICATIONS:RN license in the State of Texa...</td>\n",
              "      <td>Full Benefits Offered</td>\n",
              "      <td>...</td>\n",
              "      <td>0.0</td>\n",
              "      <td>1.0</td>\n",
              "      <td>0.0</td>\n",
              "      <td>0.0</td>\n",
              "      <td>0.0</td>\n",
              "      <td>0.0</td>\n",
              "      <td>0.0</td>\n",
              "      <td>0.0</td>\n",
              "      <td>0.0</td>\n",
              "      <td>0.0</td>\n",
              "    </tr>\n",
              "  </tbody>\n",
              "</table>\n",
              "<p>5 rows × 122 columns</p>\n",
              "</div>\n",
              "    <div class=\"colab-df-buttons\">\n",
              "\n",
              "  <div class=\"colab-df-container\">\n",
              "    <button class=\"colab-df-convert\" onclick=\"convertToInteractive('df-e9ace187-e291-4c6b-b676-d353e9c5f313')\"\n",
              "            title=\"Convert this dataframe to an interactive table.\"\n",
              "            style=\"display:none;\">\n",
              "\n",
              "  <svg xmlns=\"http://www.w3.org/2000/svg\" height=\"24px\" viewBox=\"0 -960 960 960\">\n",
              "    <path d=\"M120-120v-720h720v720H120Zm60-500h600v-160H180v160Zm220 220h160v-160H400v160Zm0 220h160v-160H400v160ZM180-400h160v-160H180v160Zm440 0h160v-160H620v160ZM180-180h160v-160H180v160Zm440 0h160v-160H620v160Z\"/>\n",
              "  </svg>\n",
              "    </button>\n",
              "\n",
              "  <style>\n",
              "    .colab-df-container {\n",
              "      display:flex;\n",
              "      gap: 12px;\n",
              "    }\n",
              "\n",
              "    .colab-df-convert {\n",
              "      background-color: #E8F0FE;\n",
              "      border: none;\n",
              "      border-radius: 50%;\n",
              "      cursor: pointer;\n",
              "      display: none;\n",
              "      fill: #1967D2;\n",
              "      height: 32px;\n",
              "      padding: 0 0 0 0;\n",
              "      width: 32px;\n",
              "    }\n",
              "\n",
              "    .colab-df-convert:hover {\n",
              "      background-color: #E2EBFA;\n",
              "      box-shadow: 0px 1px 2px rgba(60, 64, 67, 0.3), 0px 1px 3px 1px rgba(60, 64, 67, 0.15);\n",
              "      fill: #174EA6;\n",
              "    }\n",
              "\n",
              "    .colab-df-buttons div {\n",
              "      margin-bottom: 4px;\n",
              "    }\n",
              "\n",
              "    [theme=dark] .colab-df-convert {\n",
              "      background-color: #3B4455;\n",
              "      fill: #D2E3FC;\n",
              "    }\n",
              "\n",
              "    [theme=dark] .colab-df-convert:hover {\n",
              "      background-color: #434B5C;\n",
              "      box-shadow: 0px 1px 3px 1px rgba(0, 0, 0, 0.15);\n",
              "      filter: drop-shadow(0px 1px 2px rgba(0, 0, 0, 0.3));\n",
              "      fill: #FFFFFF;\n",
              "    }\n",
              "  </style>\n",
              "\n",
              "    <script>\n",
              "      const buttonEl =\n",
              "        document.querySelector('#df-e9ace187-e291-4c6b-b676-d353e9c5f313 button.colab-df-convert');\n",
              "      buttonEl.style.display =\n",
              "        google.colab.kernel.accessAllowed ? 'block' : 'none';\n",
              "\n",
              "      async function convertToInteractive(key) {\n",
              "        const element = document.querySelector('#df-e9ace187-e291-4c6b-b676-d353e9c5f313');\n",
              "        const dataTable =\n",
              "          await google.colab.kernel.invokeFunction('convertToInteractive',\n",
              "                                                    [key], {});\n",
              "        if (!dataTable) return;\n",
              "\n",
              "        const docLinkHtml = 'Like what you see? Visit the ' +\n",
              "          '<a target=\"_blank\" href=https://colab.research.google.com/notebooks/data_table.ipynb>data table notebook</a>'\n",
              "          + ' to learn more about interactive tables.';\n",
              "        element.innerHTML = '';\n",
              "        dataTable['output_type'] = 'display_data';\n",
              "        await google.colab.output.renderOutput(dataTable, element);\n",
              "        const docLink = document.createElement('div');\n",
              "        docLink.innerHTML = docLinkHtml;\n",
              "        element.appendChild(docLink);\n",
              "      }\n",
              "    </script>\n",
              "  </div>\n",
              "\n",
              "\n",
              "<div id=\"df-157c52a0-bc33-4e7c-8330-71359e9b17d1\">\n",
              "  <button class=\"colab-df-quickchart\" onclick=\"quickchart('df-157c52a0-bc33-4e7c-8330-71359e9b17d1')\"\n",
              "            title=\"Suggest charts\"\n",
              "            style=\"display:none;\">\n",
              "\n",
              "<svg xmlns=\"http://www.w3.org/2000/svg\" height=\"24px\"viewBox=\"0 0 24 24\"\n",
              "     width=\"24px\">\n",
              "    <g>\n",
              "        <path d=\"M19 3H5c-1.1 0-2 .9-2 2v14c0 1.1.9 2 2 2h14c1.1 0 2-.9 2-2V5c0-1.1-.9-2-2-2zM9 17H7v-7h2v7zm4 0h-2V7h2v10zm4 0h-2v-4h2v4z\"/>\n",
              "    </g>\n",
              "</svg>\n",
              "  </button>\n",
              "\n",
              "<style>\n",
              "  .colab-df-quickchart {\n",
              "      --bg-color: #E8F0FE;\n",
              "      --fill-color: #1967D2;\n",
              "      --hover-bg-color: #E2EBFA;\n",
              "      --hover-fill-color: #174EA6;\n",
              "      --disabled-fill-color: #AAA;\n",
              "      --disabled-bg-color: #DDD;\n",
              "  }\n",
              "\n",
              "  [theme=dark] .colab-df-quickchart {\n",
              "      --bg-color: #3B4455;\n",
              "      --fill-color: #D2E3FC;\n",
              "      --hover-bg-color: #434B5C;\n",
              "      --hover-fill-color: #FFFFFF;\n",
              "      --disabled-bg-color: #3B4455;\n",
              "      --disabled-fill-color: #666;\n",
              "  }\n",
              "\n",
              "  .colab-df-quickchart {\n",
              "    background-color: var(--bg-color);\n",
              "    border: none;\n",
              "    border-radius: 50%;\n",
              "    cursor: pointer;\n",
              "    display: none;\n",
              "    fill: var(--fill-color);\n",
              "    height: 32px;\n",
              "    padding: 0;\n",
              "    width: 32px;\n",
              "  }\n",
              "\n",
              "  .colab-df-quickchart:hover {\n",
              "    background-color: var(--hover-bg-color);\n",
              "    box-shadow: 0 1px 2px rgba(60, 64, 67, 0.3), 0 1px 3px 1px rgba(60, 64, 67, 0.15);\n",
              "    fill: var(--button-hover-fill-color);\n",
              "  }\n",
              "\n",
              "  .colab-df-quickchart-complete:disabled,\n",
              "  .colab-df-quickchart-complete:disabled:hover {\n",
              "    background-color: var(--disabled-bg-color);\n",
              "    fill: var(--disabled-fill-color);\n",
              "    box-shadow: none;\n",
              "  }\n",
              "\n",
              "  .colab-df-spinner {\n",
              "    border: 2px solid var(--fill-color);\n",
              "    border-color: transparent;\n",
              "    border-bottom-color: var(--fill-color);\n",
              "    animation:\n",
              "      spin 1s steps(1) infinite;\n",
              "  }\n",
              "\n",
              "  @keyframes spin {\n",
              "    0% {\n",
              "      border-color: transparent;\n",
              "      border-bottom-color: var(--fill-color);\n",
              "      border-left-color: var(--fill-color);\n",
              "    }\n",
              "    20% {\n",
              "      border-color: transparent;\n",
              "      border-left-color: var(--fill-color);\n",
              "      border-top-color: var(--fill-color);\n",
              "    }\n",
              "    30% {\n",
              "      border-color: transparent;\n",
              "      border-left-color: var(--fill-color);\n",
              "      border-top-color: var(--fill-color);\n",
              "      border-right-color: var(--fill-color);\n",
              "    }\n",
              "    40% {\n",
              "      border-color: transparent;\n",
              "      border-right-color: var(--fill-color);\n",
              "      border-top-color: var(--fill-color);\n",
              "    }\n",
              "    60% {\n",
              "      border-color: transparent;\n",
              "      border-right-color: var(--fill-color);\n",
              "    }\n",
              "    80% {\n",
              "      border-color: transparent;\n",
              "      border-right-color: var(--fill-color);\n",
              "      border-bottom-color: var(--fill-color);\n",
              "    }\n",
              "    90% {\n",
              "      border-color: transparent;\n",
              "      border-bottom-color: var(--fill-color);\n",
              "    }\n",
              "  }\n",
              "</style>\n",
              "\n",
              "  <script>\n",
              "    async function quickchart(key) {\n",
              "      const quickchartButtonEl =\n",
              "        document.querySelector('#' + key + ' button');\n",
              "      quickchartButtonEl.disabled = true;  // To prevent multiple clicks.\n",
              "      quickchartButtonEl.classList.add('colab-df-spinner');\n",
              "      try {\n",
              "        const charts = await google.colab.kernel.invokeFunction(\n",
              "            'suggestCharts', [key], {});\n",
              "      } catch (error) {\n",
              "        console.error('Error during call to suggestCharts:', error);\n",
              "      }\n",
              "      quickchartButtonEl.classList.remove('colab-df-spinner');\n",
              "      quickchartButtonEl.classList.add('colab-df-quickchart-complete');\n",
              "    }\n",
              "    (() => {\n",
              "      let quickchartButtonEl =\n",
              "        document.querySelector('#df-157c52a0-bc33-4e7c-8330-71359e9b17d1 button');\n",
              "      quickchartButtonEl.style.display =\n",
              "        google.colab.kernel.accessAllowed ? 'block' : 'none';\n",
              "    })();\n",
              "  </script>\n",
              "</div>\n",
              "\n",
              "    </div>\n",
              "  </div>\n"
            ],
            "application/vnd.google.colaboratory.intrinsic+json": {
              "type": "dataframe",
              "variable_name": "job_desc_df"
            }
          },
          "metadata": {},
          "execution_count": 8
        }
      ]
    },
    {
      "cell_type": "code",
      "source": [
        "(job_desc_df.isna().sum() / len(job_desc_df)) * 100"
      ],
      "metadata": {
        "id": "h0MSb6JeX3re",
        "colab": {
          "base_uri": "https://localhost:8080/",
          "height": 458
        },
        "outputId": "bd7e6ad6-bd6c-476e-fd8a-9a126888866f"
      },
      "execution_count": null,
      "outputs": [
        {
          "output_type": "execute_result",
          "data": {
            "text/plain": [
              "Unnamed: 0                                               0.000000\n",
              "job_id                                                   0.000000\n",
              "title                                                    0.000000\n",
              "location                                                 1.935123\n",
              "department                                               0.000000\n",
              "                                                           ...   \n",
              "Standardized_Department_Quality Assurance & Testing.1    0.000000\n",
              "Standardized_Department_Research & Development.1         0.000000\n",
              "Standardized_Department_Retail & Consumer.1              0.000000\n",
              "Standardized_Department_Sales.1                          0.000000\n",
              "Standardized_Department_Technology.1                     0.000000\n",
              "Length: 122, dtype: float64"
            ],
            "text/html": [
              "<div>\n",
              "<style scoped>\n",
              "    .dataframe tbody tr th:only-of-type {\n",
              "        vertical-align: middle;\n",
              "    }\n",
              "\n",
              "    .dataframe tbody tr th {\n",
              "        vertical-align: top;\n",
              "    }\n",
              "\n",
              "    .dataframe thead th {\n",
              "        text-align: right;\n",
              "    }\n",
              "</style>\n",
              "<table border=\"1\" class=\"dataframe\">\n",
              "  <thead>\n",
              "    <tr style=\"text-align: right;\">\n",
              "      <th></th>\n",
              "      <th>0</th>\n",
              "    </tr>\n",
              "  </thead>\n",
              "  <tbody>\n",
              "    <tr>\n",
              "      <th>Unnamed: 0</th>\n",
              "      <td>0.000000</td>\n",
              "    </tr>\n",
              "    <tr>\n",
              "      <th>job_id</th>\n",
              "      <td>0.000000</td>\n",
              "    </tr>\n",
              "    <tr>\n",
              "      <th>title</th>\n",
              "      <td>0.000000</td>\n",
              "    </tr>\n",
              "    <tr>\n",
              "      <th>location</th>\n",
              "      <td>1.935123</td>\n",
              "    </tr>\n",
              "    <tr>\n",
              "      <th>department</th>\n",
              "      <td>0.000000</td>\n",
              "    </tr>\n",
              "    <tr>\n",
              "      <th>...</th>\n",
              "      <td>...</td>\n",
              "    </tr>\n",
              "    <tr>\n",
              "      <th>Standardized_Department_Quality Assurance &amp; Testing.1</th>\n",
              "      <td>0.000000</td>\n",
              "    </tr>\n",
              "    <tr>\n",
              "      <th>Standardized_Department_Research &amp; Development.1</th>\n",
              "      <td>0.000000</td>\n",
              "    </tr>\n",
              "    <tr>\n",
              "      <th>Standardized_Department_Retail &amp; Consumer.1</th>\n",
              "      <td>0.000000</td>\n",
              "    </tr>\n",
              "    <tr>\n",
              "      <th>Standardized_Department_Sales.1</th>\n",
              "      <td>0.000000</td>\n",
              "    </tr>\n",
              "    <tr>\n",
              "      <th>Standardized_Department_Technology.1</th>\n",
              "      <td>0.000000</td>\n",
              "    </tr>\n",
              "  </tbody>\n",
              "</table>\n",
              "<p>122 rows × 1 columns</p>\n",
              "</div><br><label><b>dtype:</b> float64</label>"
            ]
          },
          "metadata": {},
          "execution_count": 9
        }
      ]
    },
    {
      "cell_type": "markdown",
      "source": [
        "For missing values, such as `salary_range`, `company_profile`, `requirements`, `employment_type`, `required_experience`, `required_education`, `industry`, and `function`, values that represent missing information will be substitued for NaN.\n",
        "\n",
        "This is done with the impression that several of these columns will be used in training and testing our model, so simply dropping NaN values is not in our best interest"
      ],
      "metadata": {
        "id": "zawjPLZ7zn4V"
      }
    },
    {
      "cell_type": "markdown",
      "source": [
        "#### `department` Column"
      ],
      "metadata": {
        "id": "Z4pPz9SV3wuc"
      }
    },
    {
      "cell_type": "code",
      "source": [
        "#Changing `Nan` values and other values indicating a lack of information with the 'Not Provided' string\n",
        "job_desc_df['department'] = job_desc_df['department'].replace(['Unknown', 'nan', '...', '0', ' '], np.nan)\n",
        "job_desc_df['department'] = job_desc_df['department'].fillna('Not Provided')\n",
        "\n",
        "#Sanity Check\n",
        "assert job_desc_df['department'].isna().sum() == 0, 'NaN values in `department` column'"
      ],
      "metadata": {
        "id": "oiXRESvN31v7"
      },
      "execution_count": null,
      "outputs": []
    },
    {
      "cell_type": "markdown",
      "source": [
        "#### `company_profile` Column"
      ],
      "metadata": {
        "id": "ZryCrO76BBpY"
      }
    },
    {
      "cell_type": "code",
      "source": [
        "#Changing `NaN` values with the 'Not Provided' string\n",
        "job_desc_df['company_profile'] = job_desc_df['company_profile'].fillna('Not Provided')\n",
        "\n",
        "#Sanity Check\n",
        "assert job_desc_df['company_profile'].isna().sum() == 0, 'NaN values in `company_profile` column'"
      ],
      "metadata": {
        "id": "BxMnLar-BG9n"
      },
      "execution_count": null,
      "outputs": []
    },
    {
      "cell_type": "markdown",
      "source": [
        "#### `Salary_Range` Column (Before Deep Clean)"
      ],
      "metadata": {
        "id": "zo2BoKe_2taD"
      }
    },
    {
      "cell_type": "code",
      "source": [
        "def is_valid_salary(salary_range):\n",
        "    \"\"\"Returns True if the salary range is valid (not a date or non-numeric value).\"\"\"\n",
        "    if pd.isna(salary_range):\n",
        "        return False\n",
        "\n",
        "    # Remove commas and check if the range follows the pattern 'number-number'\n",
        "    salary_range_clean = salary_range.replace(\",\", \"\")\n",
        "    match = re.match(r\"^\\d+-\\d+$\", salary_range_clean)  # Ensures both values are numbers\n",
        "\n",
        "    return bool(match)\n",
        "\n",
        "# Apply filtering\n",
        "job_desc_df = job_desc_df[job_desc_df[\"salary_range\"].apply(is_valid_salary)]\n",
        "\n",
        "# Display sample valid salary ranges\n",
        "job_desc_df[\"salary_range\"].dropna().head(10)"
      ],
      "metadata": {
        "id": "WubaI6YZB0qf",
        "colab": {
          "base_uri": "https://localhost:8080/",
          "height": 397
        },
        "outputId": "eeceb328-07b5-452d-f752-2f0a66802653"
      },
      "execution_count": null,
      "outputs": [
        {
          "output_type": "execute_result",
          "data": {
            "text/plain": [
              "6       20000-28000\n",
              "10    100000-120000\n",
              "15    120000-150000\n",
              "23    100000-120000\n",
              "31      50000-65000\n",
              "42      40000-50000\n",
              "65            60-80\n",
              "76      65000-70000\n",
              "77           75-115\n",
              "79     75000-110000\n",
              "Name: salary_range, dtype: object"
            ],
            "text/html": [
              "<div>\n",
              "<style scoped>\n",
              "    .dataframe tbody tr th:only-of-type {\n",
              "        vertical-align: middle;\n",
              "    }\n",
              "\n",
              "    .dataframe tbody tr th {\n",
              "        vertical-align: top;\n",
              "    }\n",
              "\n",
              "    .dataframe thead th {\n",
              "        text-align: right;\n",
              "    }\n",
              "</style>\n",
              "<table border=\"1\" class=\"dataframe\">\n",
              "  <thead>\n",
              "    <tr style=\"text-align: right;\">\n",
              "      <th></th>\n",
              "      <th>salary_range</th>\n",
              "    </tr>\n",
              "  </thead>\n",
              "  <tbody>\n",
              "    <tr>\n",
              "      <th>6</th>\n",
              "      <td>20000-28000</td>\n",
              "    </tr>\n",
              "    <tr>\n",
              "      <th>10</th>\n",
              "      <td>100000-120000</td>\n",
              "    </tr>\n",
              "    <tr>\n",
              "      <th>15</th>\n",
              "      <td>120000-150000</td>\n",
              "    </tr>\n",
              "    <tr>\n",
              "      <th>23</th>\n",
              "      <td>100000-120000</td>\n",
              "    </tr>\n",
              "    <tr>\n",
              "      <th>31</th>\n",
              "      <td>50000-65000</td>\n",
              "    </tr>\n",
              "    <tr>\n",
              "      <th>42</th>\n",
              "      <td>40000-50000</td>\n",
              "    </tr>\n",
              "    <tr>\n",
              "      <th>65</th>\n",
              "      <td>60-80</td>\n",
              "    </tr>\n",
              "    <tr>\n",
              "      <th>76</th>\n",
              "      <td>65000-70000</td>\n",
              "    </tr>\n",
              "    <tr>\n",
              "      <th>77</th>\n",
              "      <td>75-115</td>\n",
              "    </tr>\n",
              "    <tr>\n",
              "      <th>79</th>\n",
              "      <td>75000-110000</td>\n",
              "    </tr>\n",
              "  </tbody>\n",
              "</table>\n",
              "</div><br><label><b>dtype:</b> object</label>"
            ]
          },
          "metadata": {},
          "execution_count": 12
        }
      ]
    },
    {
      "cell_type": "code",
      "source": [
        "def clean_salary_range(salary):\n",
        "    \"\"\"Categorizes salary ranges into Annual and Hourly.\"\"\"\n",
        "    if pd.isna(salary):\n",
        "        return None\n",
        "\n",
        "    match = re.match(r\"(\\d+)-(\\d+)\", str(salary))\n",
        "    if match:\n",
        "        low, high = map(int, match.groups())\n",
        "\n",
        "        if high >= 10_000:\n",
        "            return f\"Annual: {low}-{high}\"\n",
        "        elif high < 500:\n",
        "            return f\"Hourly: {low}-{high}\"\n",
        "\n",
        "    return \"Unknown\"\n",
        "\n",
        "# Apply function\n",
        "job_desc_df[\"salary_cleaned\"] = job_desc_df[\"salary_range\"].apply(clean_salary_range)\n",
        "\n",
        "# Display sample results\n",
        "job_desc_df[[\"salary_range\", \"salary_cleaned\"]].dropna().head(10)"
      ],
      "metadata": {
        "colab": {
          "base_uri": "https://localhost:8080/",
          "height": 362
        },
        "id": "QVaxZxaOfPX2",
        "outputId": "0597d143-ad4a-46b4-d54d-6300e18b1260"
      },
      "execution_count": null,
      "outputs": [
        {
          "output_type": "execute_result",
          "data": {
            "text/plain": [
              "     salary_range         salary_cleaned\n",
              "6     20000-28000    Annual: 20000-28000\n",
              "10  100000-120000  Annual: 100000-120000\n",
              "15  120000-150000  Annual: 120000-150000\n",
              "23  100000-120000  Annual: 100000-120000\n",
              "31    50000-65000    Annual: 50000-65000\n",
              "42    40000-50000    Annual: 40000-50000\n",
              "65          60-80          Hourly: 60-80\n",
              "76    65000-70000    Annual: 65000-70000\n",
              "77         75-115         Hourly: 75-115\n",
              "79   75000-110000   Annual: 75000-110000"
            ],
            "text/html": [
              "\n",
              "  <div id=\"df-300db02b-33e1-447a-b2e0-21306aab2bae\" class=\"colab-df-container\">\n",
              "    <div>\n",
              "<style scoped>\n",
              "    .dataframe tbody tr th:only-of-type {\n",
              "        vertical-align: middle;\n",
              "    }\n",
              "\n",
              "    .dataframe tbody tr th {\n",
              "        vertical-align: top;\n",
              "    }\n",
              "\n",
              "    .dataframe thead th {\n",
              "        text-align: right;\n",
              "    }\n",
              "</style>\n",
              "<table border=\"1\" class=\"dataframe\">\n",
              "  <thead>\n",
              "    <tr style=\"text-align: right;\">\n",
              "      <th></th>\n",
              "      <th>salary_range</th>\n",
              "      <th>salary_cleaned</th>\n",
              "    </tr>\n",
              "  </thead>\n",
              "  <tbody>\n",
              "    <tr>\n",
              "      <th>6</th>\n",
              "      <td>20000-28000</td>\n",
              "      <td>Annual: 20000-28000</td>\n",
              "    </tr>\n",
              "    <tr>\n",
              "      <th>10</th>\n",
              "      <td>100000-120000</td>\n",
              "      <td>Annual: 100000-120000</td>\n",
              "    </tr>\n",
              "    <tr>\n",
              "      <th>15</th>\n",
              "      <td>120000-150000</td>\n",
              "      <td>Annual: 120000-150000</td>\n",
              "    </tr>\n",
              "    <tr>\n",
              "      <th>23</th>\n",
              "      <td>100000-120000</td>\n",
              "      <td>Annual: 100000-120000</td>\n",
              "    </tr>\n",
              "    <tr>\n",
              "      <th>31</th>\n",
              "      <td>50000-65000</td>\n",
              "      <td>Annual: 50000-65000</td>\n",
              "    </tr>\n",
              "    <tr>\n",
              "      <th>42</th>\n",
              "      <td>40000-50000</td>\n",
              "      <td>Annual: 40000-50000</td>\n",
              "    </tr>\n",
              "    <tr>\n",
              "      <th>65</th>\n",
              "      <td>60-80</td>\n",
              "      <td>Hourly: 60-80</td>\n",
              "    </tr>\n",
              "    <tr>\n",
              "      <th>76</th>\n",
              "      <td>65000-70000</td>\n",
              "      <td>Annual: 65000-70000</td>\n",
              "    </tr>\n",
              "    <tr>\n",
              "      <th>77</th>\n",
              "      <td>75-115</td>\n",
              "      <td>Hourly: 75-115</td>\n",
              "    </tr>\n",
              "    <tr>\n",
              "      <th>79</th>\n",
              "      <td>75000-110000</td>\n",
              "      <td>Annual: 75000-110000</td>\n",
              "    </tr>\n",
              "  </tbody>\n",
              "</table>\n",
              "</div>\n",
              "    <div class=\"colab-df-buttons\">\n",
              "\n",
              "  <div class=\"colab-df-container\">\n",
              "    <button class=\"colab-df-convert\" onclick=\"convertToInteractive('df-300db02b-33e1-447a-b2e0-21306aab2bae')\"\n",
              "            title=\"Convert this dataframe to an interactive table.\"\n",
              "            style=\"display:none;\">\n",
              "\n",
              "  <svg xmlns=\"http://www.w3.org/2000/svg\" height=\"24px\" viewBox=\"0 -960 960 960\">\n",
              "    <path d=\"M120-120v-720h720v720H120Zm60-500h600v-160H180v160Zm220 220h160v-160H400v160Zm0 220h160v-160H400v160ZM180-400h160v-160H180v160Zm440 0h160v-160H620v160ZM180-180h160v-160H180v160Zm440 0h160v-160H620v160Z\"/>\n",
              "  </svg>\n",
              "    </button>\n",
              "\n",
              "  <style>\n",
              "    .colab-df-container {\n",
              "      display:flex;\n",
              "      gap: 12px;\n",
              "    }\n",
              "\n",
              "    .colab-df-convert {\n",
              "      background-color: #E8F0FE;\n",
              "      border: none;\n",
              "      border-radius: 50%;\n",
              "      cursor: pointer;\n",
              "      display: none;\n",
              "      fill: #1967D2;\n",
              "      height: 32px;\n",
              "      padding: 0 0 0 0;\n",
              "      width: 32px;\n",
              "    }\n",
              "\n",
              "    .colab-df-convert:hover {\n",
              "      background-color: #E2EBFA;\n",
              "      box-shadow: 0px 1px 2px rgba(60, 64, 67, 0.3), 0px 1px 3px 1px rgba(60, 64, 67, 0.15);\n",
              "      fill: #174EA6;\n",
              "    }\n",
              "\n",
              "    .colab-df-buttons div {\n",
              "      margin-bottom: 4px;\n",
              "    }\n",
              "\n",
              "    [theme=dark] .colab-df-convert {\n",
              "      background-color: #3B4455;\n",
              "      fill: #D2E3FC;\n",
              "    }\n",
              "\n",
              "    [theme=dark] .colab-df-convert:hover {\n",
              "      background-color: #434B5C;\n",
              "      box-shadow: 0px 1px 3px 1px rgba(0, 0, 0, 0.15);\n",
              "      filter: drop-shadow(0px 1px 2px rgba(0, 0, 0, 0.3));\n",
              "      fill: #FFFFFF;\n",
              "    }\n",
              "  </style>\n",
              "\n",
              "    <script>\n",
              "      const buttonEl =\n",
              "        document.querySelector('#df-300db02b-33e1-447a-b2e0-21306aab2bae button.colab-df-convert');\n",
              "      buttonEl.style.display =\n",
              "        google.colab.kernel.accessAllowed ? 'block' : 'none';\n",
              "\n",
              "      async function convertToInteractive(key) {\n",
              "        const element = document.querySelector('#df-300db02b-33e1-447a-b2e0-21306aab2bae');\n",
              "        const dataTable =\n",
              "          await google.colab.kernel.invokeFunction('convertToInteractive',\n",
              "                                                    [key], {});\n",
              "        if (!dataTable) return;\n",
              "\n",
              "        const docLinkHtml = 'Like what you see? Visit the ' +\n",
              "          '<a target=\"_blank\" href=https://colab.research.google.com/notebooks/data_table.ipynb>data table notebook</a>'\n",
              "          + ' to learn more about interactive tables.';\n",
              "        element.innerHTML = '';\n",
              "        dataTable['output_type'] = 'display_data';\n",
              "        await google.colab.output.renderOutput(dataTable, element);\n",
              "        const docLink = document.createElement('div');\n",
              "        docLink.innerHTML = docLinkHtml;\n",
              "        element.appendChild(docLink);\n",
              "      }\n",
              "    </script>\n",
              "  </div>\n",
              "\n",
              "\n",
              "<div id=\"df-f4a3c956-2e02-474e-9618-f7011f8a29aa\">\n",
              "  <button class=\"colab-df-quickchart\" onclick=\"quickchart('df-f4a3c956-2e02-474e-9618-f7011f8a29aa')\"\n",
              "            title=\"Suggest charts\"\n",
              "            style=\"display:none;\">\n",
              "\n",
              "<svg xmlns=\"http://www.w3.org/2000/svg\" height=\"24px\"viewBox=\"0 0 24 24\"\n",
              "     width=\"24px\">\n",
              "    <g>\n",
              "        <path d=\"M19 3H5c-1.1 0-2 .9-2 2v14c0 1.1.9 2 2 2h14c1.1 0 2-.9 2-2V5c0-1.1-.9-2-2-2zM9 17H7v-7h2v7zm4 0h-2V7h2v10zm4 0h-2v-4h2v4z\"/>\n",
              "    </g>\n",
              "</svg>\n",
              "  </button>\n",
              "\n",
              "<style>\n",
              "  .colab-df-quickchart {\n",
              "      --bg-color: #E8F0FE;\n",
              "      --fill-color: #1967D2;\n",
              "      --hover-bg-color: #E2EBFA;\n",
              "      --hover-fill-color: #174EA6;\n",
              "      --disabled-fill-color: #AAA;\n",
              "      --disabled-bg-color: #DDD;\n",
              "  }\n",
              "\n",
              "  [theme=dark] .colab-df-quickchart {\n",
              "      --bg-color: #3B4455;\n",
              "      --fill-color: #D2E3FC;\n",
              "      --hover-bg-color: #434B5C;\n",
              "      --hover-fill-color: #FFFFFF;\n",
              "      --disabled-bg-color: #3B4455;\n",
              "      --disabled-fill-color: #666;\n",
              "  }\n",
              "\n",
              "  .colab-df-quickchart {\n",
              "    background-color: var(--bg-color);\n",
              "    border: none;\n",
              "    border-radius: 50%;\n",
              "    cursor: pointer;\n",
              "    display: none;\n",
              "    fill: var(--fill-color);\n",
              "    height: 32px;\n",
              "    padding: 0;\n",
              "    width: 32px;\n",
              "  }\n",
              "\n",
              "  .colab-df-quickchart:hover {\n",
              "    background-color: var(--hover-bg-color);\n",
              "    box-shadow: 0 1px 2px rgba(60, 64, 67, 0.3), 0 1px 3px 1px rgba(60, 64, 67, 0.15);\n",
              "    fill: var(--button-hover-fill-color);\n",
              "  }\n",
              "\n",
              "  .colab-df-quickchart-complete:disabled,\n",
              "  .colab-df-quickchart-complete:disabled:hover {\n",
              "    background-color: var(--disabled-bg-color);\n",
              "    fill: var(--disabled-fill-color);\n",
              "    box-shadow: none;\n",
              "  }\n",
              "\n",
              "  .colab-df-spinner {\n",
              "    border: 2px solid var(--fill-color);\n",
              "    border-color: transparent;\n",
              "    border-bottom-color: var(--fill-color);\n",
              "    animation:\n",
              "      spin 1s steps(1) infinite;\n",
              "  }\n",
              "\n",
              "  @keyframes spin {\n",
              "    0% {\n",
              "      border-color: transparent;\n",
              "      border-bottom-color: var(--fill-color);\n",
              "      border-left-color: var(--fill-color);\n",
              "    }\n",
              "    20% {\n",
              "      border-color: transparent;\n",
              "      border-left-color: var(--fill-color);\n",
              "      border-top-color: var(--fill-color);\n",
              "    }\n",
              "    30% {\n",
              "      border-color: transparent;\n",
              "      border-left-color: var(--fill-color);\n",
              "      border-top-color: var(--fill-color);\n",
              "      border-right-color: var(--fill-color);\n",
              "    }\n",
              "    40% {\n",
              "      border-color: transparent;\n",
              "      border-right-color: var(--fill-color);\n",
              "      border-top-color: var(--fill-color);\n",
              "    }\n",
              "    60% {\n",
              "      border-color: transparent;\n",
              "      border-right-color: var(--fill-color);\n",
              "    }\n",
              "    80% {\n",
              "      border-color: transparent;\n",
              "      border-right-color: var(--fill-color);\n",
              "      border-bottom-color: var(--fill-color);\n",
              "    }\n",
              "    90% {\n",
              "      border-color: transparent;\n",
              "      border-bottom-color: var(--fill-color);\n",
              "    }\n",
              "  }\n",
              "</style>\n",
              "\n",
              "  <script>\n",
              "    async function quickchart(key) {\n",
              "      const quickchartButtonEl =\n",
              "        document.querySelector('#' + key + ' button');\n",
              "      quickchartButtonEl.disabled = true;  // To prevent multiple clicks.\n",
              "      quickchartButtonEl.classList.add('colab-df-spinner');\n",
              "      try {\n",
              "        const charts = await google.colab.kernel.invokeFunction(\n",
              "            'suggestCharts', [key], {});\n",
              "      } catch (error) {\n",
              "        console.error('Error during call to suggestCharts:', error);\n",
              "      }\n",
              "      quickchartButtonEl.classList.remove('colab-df-spinner');\n",
              "      quickchartButtonEl.classList.add('colab-df-quickchart-complete');\n",
              "    }\n",
              "    (() => {\n",
              "      let quickchartButtonEl =\n",
              "        document.querySelector('#df-f4a3c956-2e02-474e-9618-f7011f8a29aa button');\n",
              "      quickchartButtonEl.style.display =\n",
              "        google.colab.kernel.accessAllowed ? 'block' : 'none';\n",
              "    })();\n",
              "  </script>\n",
              "</div>\n",
              "\n",
              "    </div>\n",
              "  </div>\n"
            ],
            "application/vnd.google.colaboratory.intrinsic+json": {
              "type": "dataframe",
              "summary": "{\n  \"name\": \"job_desc_df[[\\\"salary_range\\\", \\\"salary_cleaned\\\"]]\",\n  \"rows\": 10,\n  \"fields\": [\n    {\n      \"column\": \"salary_range\",\n      \"properties\": {\n        \"dtype\": \"string\",\n        \"num_unique_values\": 9,\n        \"samples\": [\n          \"75-115\",\n          \"100000-120000\",\n          \"60-80\"\n        ],\n        \"semantic_type\": \"\",\n        \"description\": \"\"\n      }\n    },\n    {\n      \"column\": \"salary_cleaned\",\n      \"properties\": {\n        \"dtype\": \"string\",\n        \"num_unique_values\": 9,\n        \"samples\": [\n          \"Hourly: 75-115\",\n          \"Annual: 100000-120000\",\n          \"Hourly: 60-80\"\n        ],\n        \"semantic_type\": \"\",\n        \"description\": \"\"\n      }\n    }\n  ]\n}"
            }
          },
          "metadata": {},
          "execution_count": 13
        }
      ]
    },
    {
      "cell_type": "code",
      "source": [
        "# Save the cleaned dataset\n",
        "cleaned_file_path = \"/content/drive/Shareddrives/Project 2/cleaned_fake_job_postings.csv\"\n",
        "job_desc_df.to_csv(cleaned_file_path, index=False)\n",
        "\n",
        "print(f\"Cleaned dataset saved to: {cleaned_file_path}\")"
      ],
      "metadata": {
        "colab": {
          "base_uri": "https://localhost:8080/"
        },
        "id": "CnU3RSaaq-vJ",
        "outputId": "949ee3bc-718f-4d52-edeb-ba415aaed349"
      },
      "execution_count": null,
      "outputs": [
        {
          "output_type": "stream",
          "name": "stdout",
          "text": [
            "Cleaned dataset saved to: /content/drive/Shareddrives/Project 2/cleaned_fake_job_postings.csv\n"
          ]
        }
      ]
    },
    {
      "cell_type": "markdown",
      "source": [
        "####'Salary_Range' Column Cleaned (Spotting and Eliminating Fake Values)"
      ],
      "metadata": {
        "id": "nWVPokYqltdd"
      }
    },
    {
      "cell_type": "code",
      "source": [
        "# Define reasonable salary thresholds\n",
        "MIN_ANNUAL_SALARY = 10_000  # Below this is unrealistic for full-time jobs\n",
        "MAX_ANNUAL_SALARY = 500_000  # Beyond this, it's likely a fake posting\n",
        "\n",
        "MIN_HOURLY_WAGE = 10  # Below this is below minimum wage in most countries\n",
        "MAX_HOURLY_WAGE = 300  # Above this is suspicious for general job postings\n",
        "\n",
        "# Assuming job_desc_df has a 'salary_cleaned' column\n",
        "# and we want to split it into annual and hourly DataFrames\n",
        "\n",
        "# Create annual_salaries and hourly_salaries DataFrames\n",
        "annual_salaries = job_desc_df[job_desc_df[\"salary_cleaned\"].str.startswith(\"Annual\", na=False)].copy()\n",
        "hourly_salaries = job_desc_df[job_desc_df[\"salary_cleaned\"].str.startswith(\"Hourly\", na=False)].copy()\n",
        "\n",
        "# Extract salary_high for filtering\n",
        "annual_salaries['salary_high'] = annual_salaries['salary_cleaned'].str.extract(r'Annual: (\\d+)-(\\d+)').iloc[:, 1].astype(float)\n",
        "hourly_salaries['salary_high'] = hourly_salaries['salary_cleaned'].str.extract(r'Hourly: (\\d+)-(\\d+)').iloc[:, 1].astype(float)\n",
        "\n",
        "# Now filter based on salary thresholds\n",
        "annual_salaries = annual_salaries[(annual_salaries[\"salary_high\"] >= MIN_ANNUAL_SALARY) &\n",
        "                                  (annual_salaries[\"salary_high\"] <= MAX_ANNUAL_SALARY)]\n",
        "\n",
        "hourly_salaries = hourly_salaries[(hourly_salaries[\"salary_high\"] >= MIN_HOURLY_WAGE) &\n",
        "                                  (hourly_salaries[\"salary_high\"] <= MAX_HOURLY_WAGE)]\n",
        "\n",
        "print(\"Cleaned Annual and Hourly Salary Ranges\")"
      ],
      "metadata": {
        "colab": {
          "base_uri": "https://localhost:8080/"
        },
        "id": "6H05TmNXmBkZ",
        "outputId": "e0c9302f-068f-4790-ee25-4a547e301ed1"
      },
      "execution_count": null,
      "outputs": [
        {
          "output_type": "stream",
          "name": "stdout",
          "text": [
            "Cleaned Annual and Hourly Salary Ranges\n"
          ]
        }
      ]
    },
    {
      "cell_type": "code",
      "source": [
        "def is_standard_salary(salary_range):\n",
        "    \"\"\"Checks if salary range follows standard format (realistic difference).\"\"\"\n",
        "    try:\n",
        "        low, high = map(int, salary_range.replace(\",\", \"\").split(\"-\"))\n",
        "        if high < low or high / low > 10:  # If high is much larger than low, it's suspicious\n",
        "            return False\n",
        "        return True\n",
        "    except:\n",
        "        return False\n",
        "\n",
        "# Apply filter to remove non-standard salaries\n",
        "annual_salaries = annual_salaries[annual_salaries[\"salary_range\"].apply(is_standard_salary)]\n",
        "hourly_salaries = hourly_salaries[hourly_salaries[\"salary_range\"].apply(is_standard_salary)]\n",
        "\n",
        "print(\"Removed non-standard salary entries.\")"
      ],
      "metadata": {
        "colab": {
          "base_uri": "https://localhost:8080/"
        },
        "id": "xhntoNh7mE1X",
        "outputId": "d2de0c4d-0052-43f7-e6da-37a7f4f0c778"
      },
      "execution_count": null,
      "outputs": [
        {
          "output_type": "stream",
          "name": "stdout",
          "text": [
            "Removed non-standard salary entries.\n"
          ]
        }
      ]
    },
    {
      "cell_type": "code",
      "source": [
        "# Remove job postings with missing salary info\n",
        "job_desc_df = job_desc_df.dropna(subset=[\"salary_range\"])\n",
        "\n",
        "print(f\"Remaining job postings: {len(job_desc_df)}\")"
      ],
      "metadata": {
        "colab": {
          "base_uri": "https://localhost:8080/"
        },
        "id": "62EopmmwmH_s",
        "outputId": "4dea1977-1957-43d1-be4a-3bd36e35581b"
      },
      "execution_count": null,
      "outputs": [
        {
          "output_type": "stream",
          "name": "stdout",
          "text": [
            "Remaining job postings: 2841\n"
          ]
        }
      ]
    },
    {
      "cell_type": "code",
      "source": [
        "# Define industry-based expected salary ranges\n",
        "expected_salary_ranges = {\n",
        "    \"Intern\": (10_000, 40_000),\n",
        "    \"Entry Level\": (30_000, 60_000),\n",
        "    \"Mid-Level\": (50_000, 120_000),\n",
        "    \"Senior\": (80_000, 250_000),\n",
        "    \"Executive\": (100_000, 500_000),\n",
        "}\n",
        "\n",
        "def is_salary_reasonable(row):\n",
        "    \"\"\"Checks if the salary aligns with the expected range for the job title.\"\"\"\n",
        "    # Extract salary_high from salary_cleaned column\n",
        "    match = re.search(r\"(\\d+)-(\\d+)$\", str(row[\"salary_cleaned\"]))\n",
        "    if match:\n",
        "        salary_high = int(match.group(2))\n",
        "    else:\n",
        "        salary_high = np.nan  # Handle cases where salary_high cannot be extracted\n",
        "\n",
        "    for level, (min_salary, max_salary) in expected_salary_ranges.items():\n",
        "        if level.lower() in str(row[\"title\"]).lower():\n",
        "            if salary_high < min_salary or salary_high > max_salary:\n",
        "                return False\n",
        "    return True\n",
        "\n",
        "# Apply filter\n",
        "job_desc_df = job_desc_df[job_desc_df.apply(is_salary_reasonable, axis=1)]\n",
        "\n",
        "print(f\"Remaining job postings after salary benchmarking: {len(job_desc_df)}\")"
      ],
      "metadata": {
        "colab": {
          "base_uri": "https://localhost:8080/"
        },
        "id": "dl_QNN7amLT2",
        "outputId": "9609d1f6-6640-40e4-b165-19082034aecf"
      },
      "execution_count": null,
      "outputs": [
        {
          "output_type": "stream",
          "name": "stdout",
          "text": [
            "Remaining job postings after salary benchmarking: 2594\n"
          ]
        }
      ]
    },
    {
      "cell_type": "code",
      "source": [
        "salary_counts = job_desc_df[\"salary_range\"].value_counts()\n",
        "suspicious_salaries = salary_counts[salary_counts > 5]  # Flag salaries appearing >5 times\n",
        "\n",
        "# Remove job postings using overly repeated salary values\n",
        "job_desc_df = job_desc_df[~job_desc_df[\"salary_range\"].isin(suspicious_salaries.index)]\n",
        "\n",
        "print(\"Filtered out duplicate salary postings.\")"
      ],
      "metadata": {
        "colab": {
          "base_uri": "https://localhost:8080/"
        },
        "id": "BmbF30R3mPB3",
        "outputId": "2505426f-84ec-4a69-d9dd-4b8d96de5696"
      },
      "execution_count": null,
      "outputs": [
        {
          "output_type": "stream",
          "name": "stdout",
          "text": [
            "Filtered out duplicate salary postings.\n"
          ]
        }
      ]
    },
    {
      "cell_type": "code",
      "source": [
        "job_desc_df.columns"
      ],
      "metadata": {
        "colab": {
          "base_uri": "https://localhost:8080/"
        },
        "id": "fRsxQ-laKB8K",
        "outputId": "bc8fd9a8-766d-4e1d-fbac-d7c5305104c0"
      },
      "execution_count": null,
      "outputs": [
        {
          "output_type": "execute_result",
          "data": {
            "text/plain": [
              "Index(['Unnamed: 0', 'job_id', 'title', 'location', 'department',\n",
              "       'salary_range', 'company_profile', 'description', 'requirements',\n",
              "       'benefits',\n",
              "       ...\n",
              "       'Standardized_Department_Not Provided.1',\n",
              "       'Standardized_Department_Operations.1',\n",
              "       'Standardized_Department_Product Management & Development.1',\n",
              "       'Standardized_Department_Project Management.1',\n",
              "       'Standardized_Department_Quality Assurance & Testing.1',\n",
              "       'Standardized_Department_Research & Development.1',\n",
              "       'Standardized_Department_Retail & Consumer.1',\n",
              "       'Standardized_Department_Sales.1',\n",
              "       'Standardized_Department_Technology.1', 'salary_cleaned'],\n",
              "      dtype='object', length=123)"
            ]
          },
          "metadata": {},
          "execution_count": 20
        }
      ]
    },
    {
      "cell_type": "markdown",
      "source": [
        "####Visual Models for 'Salary_Range'"
      ],
      "metadata": {
        "id": "LNKRHn2nmvZf"
      }
    },
    {
      "cell_type": "code",
      "source": [
        "import matplotlib.pyplot as plt\n",
        "\n",
        "# Reload cleaned dataset\n",
        "job_desc_df = pd.read_csv(cleaned_file_path)\n",
        "\n",
        "# Extract top job titles with highest salaries\n",
        "annual_salaries = job_desc_df[job_desc_df[\"salary_cleaned\"].str.startswith(\"Annual\", na=False)].copy()\n",
        "hourly_salaries = job_desc_df[job_desc_df[\"salary_cleaned\"].str.startswith(\"Hourly\", na=False)].copy()\n",
        "\n",
        "# Extract salary_high before converting to numeric\n",
        "annual_salaries['salary_high'] = annual_salaries['salary_cleaned'].str.extract(r'Annual: (\\d+)-(\\d+)').iloc[:, 1].astype(float)\n",
        "hourly_salaries['salary_high'] = hourly_salaries['salary_cleaned'].str.extract(r'Hourly: (\\d+)-(\\d+)').iloc[:, 1].astype(float)\n",
        "\n",
        "# Convert salary_high to numeric\n",
        "annual_salaries[\"salary_high\"] = annual_salaries[\"salary_high\"].astype(float)\n",
        "hourly_salaries[\"salary_high\"] = hourly_salaries[\"salary_high\"].astype(float)\n",
        "\n",
        "# Drop missing values before sorting\n",
        "annual_salaries = annual_salaries.dropna(subset=[\"salary_high\"]).sort_values(by=\"salary_high\", ascending=False).head(10)\n",
        "hourly_salaries = hourly_salaries.dropna(subset=[\"salary_high\"]).sort_values(by=\"salary_high\", ascending=False).head(10)\n",
        "\n",
        "# Ensure job titles are properly formatted\n",
        "annual_salaries[\"title\"] = annual_salaries[\"title\"].fillna(\"Unknown\")\n",
        "hourly_salaries[\"title\"] = hourly_salaries[\"title\"].fillna(\"Unknown\")\n",
        "\n",
        "# Format salaries with commas\n",
        "def format_salary(salary):\n",
        "    return f\"{int(salary):,}\" if pd.notna(salary) else None\n",
        "\n",
        "annual_salaries[\"salary_high\"] = annual_salaries[\"salary_high\"].apply(format_salary)\n",
        "hourly_salaries[\"salary_high\"] = hourly_salaries[\"salary_high\"].apply(format_salary)\n",
        "\n",
        "# Adjust margins and spacing for better readability\n",
        "def plot_salary_bars(data, title, color, x_label):\n",
        "    plt.figure(figsize=(12, 6))\n",
        "    plt.barh(data[\"title\"], data[\"salary_high\"], color=color, edgecolor=\"black\")\n",
        "    plt.xlabel(x_label, fontsize=12)\n",
        "    plt.ylabel(\"Job Title\", fontsize=12)\n",
        "    plt.title(title, fontsize=14)\n",
        "    plt.xticks(fontsize=10)\n",
        "    plt.yticks(fontsize=10)\n",
        "    plt.gca().invert_yaxis()\n",
        "    plt.subplots_adjust(left=0.35, right=0.95, top=0.9, bottom=0.2)  # Adjust margins\n",
        "    plt.show()\n",
        "\n",
        "# Generate plots\n",
        "plot_salary_bars(annual_salaries, \"Top 10 Highest-Paid Annual Job Titles\", \"blue\", \"Annual Salary ($)\")\n",
        "plot_salary_bars(hourly_salaries, \"Top 10 Highest-Paid Hourly Job Titles\", \"green\", \"Hourly Wage ($)\")"
      ],
      "metadata": {
        "id": "8Uw6nbtCrLf7",
        "colab": {
          "base_uri": "https://localhost:8080/"
        },
        "outputId": "7496fe88-c669-44c9-d0d6-8cca7134d0a1"
      },
      "execution_count": null,
      "outputs": [
        {
          "output_type": "display_data",
          "data": {
            "text/plain": [
              "<Figure size 1200x600 with 1 Axes>"
            ],
            "image/png": "[encoded data removed]"
          },
          "metadata": {}
        },
        {
          "output_type": "display_data",
          "data": {
            "text/plain": [
              "<Figure size 1200x600 with 1 Axes>"
            ],
            "image/png": "[encoded data removed]"
          },
          "metadata": {}
        }
      ]
    },
    {
      "cell_type": "markdown",
      "source": [
        "Just as reference these graphs showcase our \"salary outliers\"(fake job postings) out of salary database"
      ],
      "metadata": {
        "id": "ypDo37EmoWyw"
      }
    },
    {
      "cell_type": "code",
      "source": [
        "import seaborn as sns\n",
        "import matplotlib.pyplot as plt\n",
        "\n",
        "plt.figure(figsize=(12, 6))\n",
        "\n",
        "# Create a Box Plot for Annual Salaries\n",
        "sns.boxplot(x=annual_salaries[\"salary_high\"], color=\"blue\")\n",
        "plt.title(\"Distribution of Annual Salaries (Filtered)\")\n",
        "plt.xlabel(\"Salary\")\n",
        "plt.show()\n",
        "\n",
        "plt.figure(figsize=(12, 6))\n",
        "\n",
        "# Create a Box Plot for Hourly Salaries\n",
        "sns.boxplot(x=hourly_salaries[\"salary_high\"], color=\"green\")\n",
        "plt.title(\"Distribution of Hourly Salaries (Filtered)\")\n",
        "plt.xlabel(\"Hourly Wage\")\n",
        "plt.show()"
      ],
      "metadata": {
        "id": "t6RUrTkZn-pB",
        "colab": {
          "base_uri": "https://localhost:8080/"
        },
        "outputId": "07437be2-ca25-4cac-da5f-df9dc4e38c57"
      },
      "execution_count": null,
      "outputs": [
        {
          "output_type": "display_data",
          "data": {
            "text/plain": [
              "<Figure size 1200x600 with 1 Axes>"
            ],
            "image/png": "[encoded data removed]"
          },
          "metadata": {}
        },
        {
          "output_type": "display_data",
          "data": {
            "text/plain": [
              "<Figure size 1200x600 with 1 Axes>"
            ],
            "image/png": "[encoded data removed]"
          },
          "metadata": {}
        }
      ]
    },
    {
      "cell_type": "markdown",
      "source": [
        "####'Salary_Range' One Hot Encoding Model"
      ],
      "metadata": {
        "id": "tNggsxeYCDBR"
      }
    },
    {
      "cell_type": "code",
      "source": [
        "job_desc_df = pd.read_csv('/content/drive/Shareddrives/Project 2/Copy of cleaned_fake_job_postings.csv')"
      ],
      "metadata": {
        "id": "E47aI-pRMShy"
      },
      "execution_count": null,
      "outputs": []
    },
    {
      "cell_type": "code",
      "source": [
        "from google.colab import drive\n",
        "drive.mount('/content/drive')"
      ],
      "metadata": {
        "colab": {
          "base_uri": "https://localhost:8080/"
        },
        "id": "zHSJsqTfLlP5",
        "outputId": "b39ca36d-5ce7-4085-b080-bf529d81550e"
      },
      "execution_count": null,
      "outputs": [
        {
          "output_type": "stream",
          "name": "stdout",
          "text": [
            "Drive already mounted at /content/drive; to attempt to forcibly remount, call drive.mount(\"/content/drive\", force_remount=True).\n"
          ]
        }
      ]
    },
    {
      "cell_type": "markdown",
      "source": [
        "One Hot Encoding Model that states job levels based on realistic salary pay"
      ],
      "metadata": {
        "id": "De6QAMM7Nx0S"
      }
    },
    {
      "cell_type": "code",
      "source": [
        "import pandas as pd\n",
        "import numpy as np\n",
        "from sklearn.preprocessing import OneHotEncoder\n",
        "\n",
        "# Define industry-based expected salary ranges\n",
        "expected_salary_ranges = {\n",
        "    \"Intern\": \"Intern\",\n",
        "    \"Entry Level\": \"Entry_Level\",\n",
        "    \"Mid-Level\": \"Mid_Level\",\n",
        "    \"Senior\": \"Senior\",\n",
        "    \"Executive\": \"Executive\",\n",
        "}\n",
        "\n",
        "# Function to assign salary category based on job title\n",
        "def assign_salary_category(title):\n",
        "    \"\"\"Assigns a salary category based on job title.\"\"\"\n",
        "    title_lower = str(title).lower()\n",
        "    for level in expected_salary_ranges.keys():\n",
        "        if level.lower() in title_lower:\n",
        "            return expected_salary_ranges[level]\n",
        "    return \"Other\"  # Default category if no match\n",
        "\n",
        "# Apply function to create salary categories\n",
        "job_desc_df[\"salary_category\"] = job_desc_df[\"title\"].apply(assign_salary_category)\n",
        "\n",
        "# Initialize OneHotEncoder\n",
        "# Replacing 'sparse' with 'sparse_output' for compatibility with older versions of scikit-learn\n",
        "encoder = OneHotEncoder(sparse_output=False, drop=\"first\")  # Drop first column to avoid multicollinearity\n",
        "\n",
        "# Transform salary categories into one-hot encoded matrix\n",
        "encoded_salary = encoder.fit_transform(job_desc_df[[\"salary_category\"]])\n",
        "\n",
        "# Convert to DataFrame\n",
        "encoded_salary_df = pd.DataFrame(encoded_salary, columns=encoder.get_feature_names_out([\"salary_category\"]))\n",
        "\n",
        "# Concatenate with the original dataset\n",
        "job_desc_df_encoded = pd.concat([job_desc_df, encoded_salary_df], axis=1)\n",
        "\n",
        "# Drop the original salary_category column after encoding\n",
        "job_desc_df_encoded.drop(columns=[\"salary_category\"], inplace=True)\n",
        "\n",
        "# Display first few rows\n",
        "job_desc_df_encoded.head()"
      ],
      "metadata": {
        "id": "KEYNzEbvCLK_",
        "colab": {
          "base_uri": "https://localhost:8080/",
          "height": 602
        },
        "outputId": "72f87663-f74c-4395-c6df-3ea4265461fd"
      },
      "execution_count": null,
      "outputs": [
        {
          "output_type": "execute_result",
          "data": {
            "text/plain": [
              "   Unnamed: 0  job_id                                      title  \\\n",
              "0           0       1                           Marketing Intern   \n",
              "1           1       2  Customer Service - Cloud Video Production   \n",
              "2           2       3    Commissioning Machinery Assistant (CMA)   \n",
              "3           3       4          Account Executive - Washington DC   \n",
              "4           4       5                        Bill Review Manager   \n",
              "\n",
              "             location    department salary_range  \\\n",
              "0    US, NY, New York     Marketing          NaN   \n",
              "1      NZ, , Auckland       Success          NaN   \n",
              "2       US, IA, Wever  Not Provided          NaN   \n",
              "3  US, DC, Washington         Sales          NaN   \n",
              "4  US, FL, Fort Worth  Not Provided          NaN   \n",
              "\n",
              "                                     company_profile  \\\n",
              "0  We're Food52, and we've created a groundbreaki...   \n",
              "1  90 Seconds, the worlds Cloud Video Production ...   \n",
              "2  Valor Services provides Workforce Solutions th...   \n",
              "3  Our passion for improving quality of life thro...   \n",
              "4  SpotSource Solutions LLC is a Global Human Cap...   \n",
              "\n",
              "                                         description  \\\n",
              "0  Food52, a fast-growing, James Beard Award-winn...   \n",
              "1  Organised - Focused - Vibrant - Awesome!Do you...   \n",
              "2  Our client, located in Houston, is actively se...   \n",
              "3  THE COMPANY: ESRI – Environmental Systems Rese...   \n",
              "4  JOB TITLE: Itemization Review ManagerLOCATION:...   \n",
              "\n",
              "                                        requirements  \\\n",
              "0  Experience with content management systems a m...   \n",
              "1  What we expect from you:Your key responsibilit...   \n",
              "2  Implement pre-commissioning and commissioning ...   \n",
              "3  EDUCATION: Bachelor’s or Master’s in GIS, busi...   \n",
              "4  QUALIFICATIONS:RN license in the State of Texa...   \n",
              "\n",
              "                                            benefits  ...  \\\n",
              "0                                       Not Provided  ...   \n",
              "1  What you will get from usThrough being part of...  ...   \n",
              "2                                       Not Provided  ...   \n",
              "3  Our culture is anything but corporate—we have ...  ...   \n",
              "4                              Full Benefits Offered  ...   \n",
              "\n",
              "   Standardized_Department_Quality Assurance & Testing.1  \\\n",
              "0                                                0.0       \n",
              "1                                                0.0       \n",
              "2                                                0.0       \n",
              "3                                                0.0       \n",
              "4                                                0.0       \n",
              "\n",
              "   Standardized_Department_Research & Development.1  \\\n",
              "0                                               0.0   \n",
              "1                                               0.0   \n",
              "2                                               0.0   \n",
              "3                                               0.0   \n",
              "4                                               0.0   \n",
              "\n",
              "   Standardized_Department_Retail & Consumer.1  \\\n",
              "0                                          0.0   \n",
              "1                                          0.0   \n",
              "2                                          0.0   \n",
              "3                                          0.0   \n",
              "4                                          0.0   \n",
              "\n",
              "  Standardized_Department_Sales.1 Standardized_Department_Technology.1  \\\n",
              "0                             0.0                                  0.0   \n",
              "1                             0.0                                  0.0   \n",
              "2                             0.0                                  0.0   \n",
              "3                             1.0                                  0.0   \n",
              "4                             0.0                                  0.0   \n",
              "\n",
              "  salary_category_Executive salary_category_Intern salary_category_Mid_Level  \\\n",
              "0                       0.0                    1.0                       0.0   \n",
              "1                       0.0                    0.0                       0.0   \n",
              "2                       0.0                    0.0                       0.0   \n",
              "3                       1.0                    0.0                       0.0   \n",
              "4                       0.0                    0.0                       0.0   \n",
              "\n",
              "   salary_category_Other salary_category_Senior  \n",
              "0                    0.0                    0.0  \n",
              "1                    1.0                    0.0  \n",
              "2                    1.0                    0.0  \n",
              "3                    0.0                    0.0  \n",
              "4                    1.0                    0.0  \n",
              "\n",
              "[5 rows x 127 columns]"
            ],
            "text/html": [
              "\n",
              "  <div id=\"df-7d6ab924-793e-4738-8c1b-09501069c356\" class=\"colab-df-container\">\n",
              "    <div>\n",
              "<style scoped>\n",
              "    .dataframe tbody tr th:only-of-type {\n",
              "        vertical-align: middle;\n",
              "    }\n",
              "\n",
              "    .dataframe tbody tr th {\n",
              "        vertical-align: top;\n",
              "    }\n",
              "\n",
              "    .dataframe thead th {\n",
              "        text-align: right;\n",
              "    }\n",
              "</style>\n",
              "<table border=\"1\" class=\"dataframe\">\n",
              "  <thead>\n",
              "    <tr style=\"text-align: right;\">\n",
              "      <th></th>\n",
              "      <th>Unnamed: 0</th>\n",
              "      <th>job_id</th>\n",
              "      <th>title</th>\n",
              "      <th>location</th>\n",
              "      <th>department</th>\n",
              "      <th>salary_range</th>\n",
              "      <th>company_profile</th>\n",
              "      <th>description</th>\n",
              "      <th>requirements</th>\n",
              "      <th>benefits</th>\n",
              "      <th>...</th>\n",
              "      <th>Standardized_Department_Quality Assurance &amp; Testing.1</th>\n",
              "      <th>Standardized_Department_Research &amp; Development.1</th>\n",
              "      <th>Standardized_Department_Retail &amp; Consumer.1</th>\n",
              "      <th>Standardized_Department_Sales.1</th>\n",
              "      <th>Standardized_Department_Technology.1</th>\n",
              "      <th>salary_category_Executive</th>\n",
              "      <th>salary_category_Intern</th>\n",
              "      <th>salary_category_Mid_Level</th>\n",
              "      <th>salary_category_Other</th>\n",
              "      <th>salary_category_Senior</th>\n",
              "    </tr>\n",
              "  </thead>\n",
              "  <tbody>\n",
              "    <tr>\n",
              "      <th>0</th>\n",
              "      <td>0</td>\n",
              "      <td>1</td>\n",
              "      <td>Marketing Intern</td>\n",
              "      <td>US, NY, New York</td>\n",
              "      <td>Marketing</td>\n",
              "      <td>NaN</td>\n",
              "      <td>We're Food52, and we've created a groundbreaki...</td>\n",
              "      <td>Food52, a fast-growing, James Beard Award-winn...</td>\n",
              "      <td>Experience with content management systems a m...</td>\n",
              "      <td>Not Provided</td>\n",
              "      <td>...</td>\n",
              "      <td>0.0</td>\n",
              "      <td>0.0</td>\n",
              "      <td>0.0</td>\n",
              "      <td>0.0</td>\n",
              "      <td>0.0</td>\n",
              "      <td>0.0</td>\n",
              "      <td>1.0</td>\n",
              "      <td>0.0</td>\n",
              "      <td>0.0</td>\n",
              "      <td>0.0</td>\n",
              "    </tr>\n",
              "    <tr>\n",
              "      <th>1</th>\n",
              "      <td>1</td>\n",
              "      <td>2</td>\n",
              "      <td>Customer Service - Cloud Video Production</td>\n",
              "      <td>NZ, , Auckland</td>\n",
              "      <td>Success</td>\n",
              "      <td>NaN</td>\n",
              "      <td>90 Seconds, the worlds Cloud Video Production ...</td>\n",
              "      <td>Organised - Focused - Vibrant - Awesome!Do you...</td>\n",
              "      <td>What we expect from you:Your key responsibilit...</td>\n",
              "      <td>What you will get from usThrough being part of...</td>\n",
              "      <td>...</td>\n",
              "      <td>0.0</td>\n",
              "      <td>0.0</td>\n",
              "      <td>0.0</td>\n",
              "      <td>0.0</td>\n",
              "      <td>0.0</td>\n",
              "      <td>0.0</td>\n",
              "      <td>0.0</td>\n",
              "      <td>0.0</td>\n",
              "      <td>1.0</td>\n",
              "      <td>0.0</td>\n",
              "    </tr>\n",
              "    <tr>\n",
              "      <th>2</th>\n",
              "      <td>2</td>\n",
              "      <td>3</td>\n",
              "      <td>Commissioning Machinery Assistant (CMA)</td>\n",
              "      <td>US, IA, Wever</td>\n",
              "      <td>Not Provided</td>\n",
              "      <td>NaN</td>\n",
              "      <td>Valor Services provides Workforce Solutions th...</td>\n",
              "      <td>Our client, located in Houston, is actively se...</td>\n",
              "      <td>Implement pre-commissioning and commissioning ...</td>\n",
              "      <td>Not Provided</td>\n",
              "      <td>...</td>\n",
              "      <td>0.0</td>\n",
              "      <td>0.0</td>\n",
              "      <td>0.0</td>\n",
              "      <td>0.0</td>\n",
              "      <td>0.0</td>\n",
              "      <td>0.0</td>\n",
              "      <td>0.0</td>\n",
              "      <td>0.0</td>\n",
              "      <td>1.0</td>\n",
              "      <td>0.0</td>\n",
              "    </tr>\n",
              "    <tr>\n",
              "      <th>3</th>\n",
              "      <td>3</td>\n",
              "      <td>4</td>\n",
              "      <td>Account Executive - Washington DC</td>\n",
              "      <td>US, DC, Washington</td>\n",
              "      <td>Sales</td>\n",
              "      <td>NaN</td>\n",
              "      <td>Our passion for improving quality of life thro...</td>\n",
              "      <td>THE COMPANY: ESRI – Environmental Systems Rese...</td>\n",
              "      <td>EDUCATION: Bachelor’s or Master’s in GIS, busi...</td>\n",
              "      <td>Our culture is anything but corporate—we have ...</td>\n",
              "      <td>...</td>\n",
              "      <td>0.0</td>\n",
              "      <td>0.0</td>\n",
              "      <td>0.0</td>\n",
              "      <td>1.0</td>\n",
              "      <td>0.0</td>\n",
              "      <td>1.0</td>\n",
              "      <td>0.0</td>\n",
              "      <td>0.0</td>\n",
              "      <td>0.0</td>\n",
              "      <td>0.0</td>\n",
              "    </tr>\n",
              "    <tr>\n",
              "      <th>4</th>\n",
              "      <td>4</td>\n",
              "      <td>5</td>\n",
              "      <td>Bill Review Manager</td>\n",
              "      <td>US, FL, Fort Worth</td>\n",
              "      <td>Not Provided</td>\n",
              "      <td>NaN</td>\n",
              "      <td>SpotSource Solutions LLC is a Global Human Cap...</td>\n",
              "      <td>JOB TITLE: Itemization Review ManagerLOCATION:...</td>\n",
              "      <td>QUALIFICATIONS:RN license in the State of Texa...</td>\n",
              "      <td>Full Benefits Offered</td>\n",
              "      <td>...</td>\n",
              "      <td>0.0</td>\n",
              "      <td>0.0</td>\n",
              "      <td>0.0</td>\n",
              "      <td>0.0</td>\n",
              "      <td>0.0</td>\n",
              "      <td>0.0</td>\n",
              "      <td>0.0</td>\n",
              "      <td>0.0</td>\n",
              "      <td>1.0</td>\n",
              "      <td>0.0</td>\n",
              "    </tr>\n",
              "  </tbody>\n",
              "</table>\n",
              "<p>5 rows × 127 columns</p>\n",
              "</div>\n",
              "    <div class=\"colab-df-buttons\">\n",
              "\n",
              "  <div class=\"colab-df-container\">\n",
              "    <button class=\"colab-df-convert\" onclick=\"convertToInteractive('df-7d6ab924-793e-4738-8c1b-09501069c356')\"\n",
              "            title=\"Convert this dataframe to an interactive table.\"\n",
              "            style=\"display:none;\">\n",
              "\n",
              "  <svg xmlns=\"http://www.w3.org/2000/svg\" height=\"24px\" viewBox=\"0 -960 960 960\">\n",
              "    <path d=\"M120-120v-720h720v720H120Zm60-500h600v-160H180v160Zm220 220h160v-160H400v160Zm0 220h160v-160H400v160ZM180-400h160v-160H180v160Zm440 0h160v-160H620v160ZM180-180h160v-160H180v160Zm440 0h160v-160H620v160Z\"/>\n",
              "  </svg>\n",
              "    </button>\n",
              "\n",
              "  <style>\n",
              "    .colab-df-container {\n",
              "      display:flex;\n",
              "      gap: 12px;\n",
              "    }\n",
              "\n",
              "    .colab-df-convert {\n",
              "      background-color: #E8F0FE;\n",
              "      border: none;\n",
              "      border-radius: 50%;\n",
              "      cursor: pointer;\n",
              "      display: none;\n",
              "      fill: #1967D2;\n",
              "      height: 32px;\n",
              "      padding: 0 0 0 0;\n",
              "      width: 32px;\n",
              "    }\n",
              "\n",
              "    .colab-df-convert:hover {\n",
              "      background-color: #E2EBFA;\n",
              "      box-shadow: 0px 1px 2px rgba(60, 64, 67, 0.3), 0px 1px 3px 1px rgba(60, 64, 67, 0.15);\n",
              "      fill: #174EA6;\n",
              "    }\n",
              "\n",
              "    .colab-df-buttons div {\n",
              "      margin-bottom: 4px;\n",
              "    }\n",
              "\n",
              "    [theme=dark] .colab-df-convert {\n",
              "      background-color: #3B4455;\n",
              "      fill: #D2E3FC;\n",
              "    }\n",
              "\n",
              "    [theme=dark] .colab-df-convert:hover {\n",
              "      background-color: #434B5C;\n",
              "      box-shadow: 0px 1px 3px 1px rgba(0, 0, 0, 0.15);\n",
              "      filter: drop-shadow(0px 1px 2px rgba(0, 0, 0, 0.3));\n",
              "      fill: #FFFFFF;\n",
              "    }\n",
              "  </style>\n",
              "\n",
              "    <script>\n",
              "      const buttonEl =\n",
              "        document.querySelector('#df-7d6ab924-793e-4738-8c1b-09501069c356 button.colab-df-convert');\n",
              "      buttonEl.style.display =\n",
              "        google.colab.kernel.accessAllowed ? 'block' : 'none';\n",
              "\n",
              "      async function convertToInteractive(key) {\n",
              "        const element = document.querySelector('#df-7d6ab924-793e-4738-8c1b-09501069c356');\n",
              "        const dataTable =\n",
              "          await google.colab.kernel.invokeFunction('convertToInteractive',\n",
              "                                                    [key], {});\n",
              "        if (!dataTable) return;\n",
              "\n",
              "        const docLinkHtml = 'Like what you see? Visit the ' +\n",
              "          '<a target=\"_blank\" href=https://colab.research.google.com/notebooks/data_table.ipynb>data table notebook</a>'\n",
              "          + ' to learn more about interactive tables.';\n",
              "        element.innerHTML = '';\n",
              "        dataTable['output_type'] = 'display_data';\n",
              "        await google.colab.output.renderOutput(dataTable, element);\n",
              "        const docLink = document.createElement('div');\n",
              "        docLink.innerHTML = docLinkHtml;\n",
              "        element.appendChild(docLink);\n",
              "      }\n",
              "    </script>\n",
              "  </div>\n",
              "\n",
              "\n",
              "<div id=\"df-abce1413-853f-415a-93e2-883e5dca9441\">\n",
              "  <button class=\"colab-df-quickchart\" onclick=\"quickchart('df-abce1413-853f-415a-93e2-883e5dca9441')\"\n",
              "            title=\"Suggest charts\"\n",
              "            style=\"display:none;\">\n",
              "\n",
              "<svg xmlns=\"http://www.w3.org/2000/svg\" height=\"24px\"viewBox=\"0 0 24 24\"\n",
              "     width=\"24px\">\n",
              "    <g>\n",
              "        <path d=\"M19 3H5c-1.1 0-2 .9-2 2v14c0 1.1.9 2 2 2h14c1.1 0 2-.9 2-2V5c0-1.1-.9-2-2-2zM9 17H7v-7h2v7zm4 0h-2V7h2v10zm4 0h-2v-4h2v4z\"/>\n",
              "    </g>\n",
              "</svg>\n",
              "  </button>\n",
              "\n",
              "<style>\n",
              "  .colab-df-quickchart {\n",
              "      --bg-color: #E8F0FE;\n",
              "      --fill-color: #1967D2;\n",
              "      --hover-bg-color: #E2EBFA;\n",
              "      --hover-fill-color: #174EA6;\n",
              "      --disabled-fill-color: #AAA;\n",
              "      --disabled-bg-color: #DDD;\n",
              "  }\n",
              "\n",
              "  [theme=dark] .colab-df-quickchart {\n",
              "      --bg-color: #3B4455;\n",
              "      --fill-color: #D2E3FC;\n",
              "      --hover-bg-color: #434B5C;\n",
              "      --hover-fill-color: #FFFFFF;\n",
              "      --disabled-bg-color: #3B4455;\n",
              "      --disabled-fill-color: #666;\n",
              "  }\n",
              "\n",
              "  .colab-df-quickchart {\n",
              "    background-color: var(--bg-color);\n",
              "    border: none;\n",
              "    border-radius: 50%;\n",
              "    cursor: pointer;\n",
              "    display: none;\n",
              "    fill: var(--fill-color);\n",
              "    height: 32px;\n",
              "    padding: 0;\n",
              "    width: 32px;\n",
              "  }\n",
              "\n",
              "  .colab-df-quickchart:hover {\n",
              "    background-color: var(--hover-bg-color);\n",
              "    box-shadow: 0 1px 2px rgba(60, 64, 67, 0.3), 0 1px 3px 1px rgba(60, 64, 67, 0.15);\n",
              "    fill: var(--button-hover-fill-color);\n",
              "  }\n",
              "\n",
              "  .colab-df-quickchart-complete:disabled,\n",
              "  .colab-df-quickchart-complete:disabled:hover {\n",
              "    background-color: var(--disabled-bg-color);\n",
              "    fill: var(--disabled-fill-color);\n",
              "    box-shadow: none;\n",
              "  }\n",
              "\n",
              "  .colab-df-spinner {\n",
              "    border: 2px solid var(--fill-color);\n",
              "    border-color: transparent;\n",
              "    border-bottom-color: var(--fill-color);\n",
              "    animation:\n",
              "      spin 1s steps(1) infinite;\n",
              "  }\n",
              "\n",
              "  @keyframes spin {\n",
              "    0% {\n",
              "      border-color: transparent;\n",
              "      border-bottom-color: var(--fill-color);\n",
              "      border-left-color: var(--fill-color);\n",
              "    }\n",
              "    20% {\n",
              "      border-color: transparent;\n",
              "      border-left-color: var(--fill-color);\n",
              "      border-top-color: var(--fill-color);\n",
              "    }\n",
              "    30% {\n",
              "      border-color: transparent;\n",
              "      border-left-color: var(--fill-color);\n",
              "      border-top-color: var(--fill-color);\n",
              "      border-right-color: var(--fill-color);\n",
              "    }\n",
              "    40% {\n",
              "      border-color: transparent;\n",
              "      border-right-color: var(--fill-color);\n",
              "      border-top-color: var(--fill-color);\n",
              "    }\n",
              "    60% {\n",
              "      border-color: transparent;\n",
              "      border-right-color: var(--fill-color);\n",
              "    }\n",
              "    80% {\n",
              "      border-color: transparent;\n",
              "      border-right-color: var(--fill-color);\n",
              "      border-bottom-color: var(--fill-color);\n",
              "    }\n",
              "    90% {\n",
              "      border-color: transparent;\n",
              "      border-bottom-color: var(--fill-color);\n",
              "    }\n",
              "  }\n",
              "</style>\n",
              "\n",
              "  <script>\n",
              "    async function quickchart(key) {\n",
              "      const quickchartButtonEl =\n",
              "        document.querySelector('#' + key + ' button');\n",
              "      quickchartButtonEl.disabled = true;  // To prevent multiple clicks.\n",
              "      quickchartButtonEl.classList.add('colab-df-spinner');\n",
              "      try {\n",
              "        const charts = await google.colab.kernel.invokeFunction(\n",
              "            'suggestCharts', [key], {});\n",
              "      } catch (error) {\n",
              "        console.error('Error during call to suggestCharts:', error);\n",
              "      }\n",
              "      quickchartButtonEl.classList.remove('colab-df-spinner');\n",
              "      quickchartButtonEl.classList.add('colab-df-quickchart-complete');\n",
              "    }\n",
              "    (() => {\n",
              "      let quickchartButtonEl =\n",
              "        document.querySelector('#df-abce1413-853f-415a-93e2-883e5dca9441 button');\n",
              "      quickchartButtonEl.style.display =\n",
              "        google.colab.kernel.accessAllowed ? 'block' : 'none';\n",
              "    })();\n",
              "  </script>\n",
              "</div>\n",
              "\n",
              "    </div>\n",
              "  </div>\n"
            ],
            "application/vnd.google.colaboratory.intrinsic+json": {
              "type": "dataframe",
              "variable_name": "job_desc_df_encoded"
            }
          },
          "metadata": {},
          "execution_count": 25
        }
      ]
    },
    {
      "cell_type": "code",
      "source": [
        "from sklearn.model_selection import train_test_split\n",
        "X = job_desc_df_encoded  # Features\n",
        "y = job_desc_df['salary_category']  # Replace with your target column\n",
        "X_train, X_test, y_train, y_test = train_test_split(X, y, test_size=0.3, random_state=42)"
      ],
      "metadata": {
        "id": "esJNfEi3CqFH"
      },
      "execution_count": null,
      "outputs": []
    },
    {
      "cell_type": "code",
      "source": [
        "from sklearn.model_selection import train_test_split\n",
        "# Use 'fraudulent' as the target variable for linear regression\n",
        "X = job_desc_df_encoded.drop(columns=['fraudulent']) # Features, exclude target\n",
        "y = job_desc_df['fraudulent']  # Target column\n",
        "X_train, X_test, y_train, y_test = train_test_split(X, y, test_size=0.3, random_state=42)"
      ],
      "metadata": {
        "id": "pF-6t2BoDCFc"
      },
      "execution_count": null,
      "outputs": []
    },
    {
      "cell_type": "code",
      "source": [
        "import pandas as pd\n",
        "import numpy as np\n",
        "from sklearn.preprocessing import OneHotEncoder\n",
        "\n",
        "# Sample data (replace with your actual job_desc_df)\n",
        "data = {\n",
        "    'title': ['Senior Engineer', 'Intern Analyst', 'Mid-Level Manager', 'Executive Director', 'Entry Level Developer'],\n",
        "    'industry': ['Tech', 'Finance', 'Retail', 'Healthcare', 'Tech'],\n",
        "    'department': ['Engineering', 'Analytics', 'Management', 'Leadership', 'Engineering'],\n",
        "    'salary': [120000, 30000, 80000, 200000, 60000]  # Example target variable\n",
        "}\n",
        "job_desc_df = pd.DataFrame(data)\n",
        "\n",
        "# Define industry-based expected salary ranges (in USD, as ranges)\n",
        "expected_salary_ranges = {\n",
        "    \"Intern\": \"20k-40k\",\n",
        "    \"Entry Level\": \"40k-70k\",\n",
        "    \"Mid-Level\": \"70k-100k\",\n",
        "    \"Senior\": \"100k-150k\",\n",
        "    \"Executive\": \"150k+\",\n",
        "    \"Other\": \"Unknown\"  # Default for unmatched titles\n",
        "}\n",
        "\n",
        "# Function to assign salary range category based on job title\n",
        "def assign_salary_range(title):\n",
        "    \"\"\"Assigns a salary range category based on job title.\"\"\"\n",
        "    title_lower = str(title).lower()\n",
        "    for level, salary_range in expected_salary_ranges.items():\n",
        "        if level.lower() in title_lower:\n",
        "            return salary_range\n",
        "    return expected_salary_ranges[\"Other\"]  # Default if no match\n",
        "\n",
        "# Apply function to create salary range categories\n",
        "job_desc_df[\"salary_range\"] = job_desc_df[\"title\"].apply(assign_salary_range)\n",
        "\n",
        "# Initialize OneHotEncoder\n",
        "encoder = OneHotEncoder(sparse_output=False, drop='first')  # Drop first to avoid multicollinearity\n",
        "\n",
        "# Transform salary range categories into one-hot encoded matrix\n",
        "encoded_salary = encoder.fit_transform(job_desc_df[[\"salary_range\"]])\n",
        "\n",
        "# Convert to DataFrame with meaningful column names\n",
        "encoded_salary_df = pd.DataFrame(\n",
        "    encoded_salary,\n",
        "    columns=encoder.get_feature_names_out([\"salary_range\"])\n",
        ")\n",
        "\n",
        "# Concatenate with the original dataset\n",
        "job_desc_df_encoded = pd.concat([job_desc_df, encoded_salary_df], axis=1)\n",
        "\n",
        "# Optionally drop the original salary_range column after encoding\n",
        "job_desc_df_encoded.drop(columns=[\"salary_range\"], inplace=True)\n",
        "\n",
        "# Display the first few rows\n",
        "print(job_desc_df_encoded.head())"
      ],
      "metadata": {
        "colab": {
          "base_uri": "https://localhost:8080/"
        },
        "id": "__vJ2hOsDayJ",
        "outputId": "0d87652e-6c60-49cd-fe26-fbc7b302ee42"
      },
      "execution_count": null,
      "outputs": [
        {
          "output_type": "stream",
          "name": "stdout",
          "text": [
            "                   title    industry   department  salary  salary_range_150k+  \\\n",
            "0        Senior Engineer        Tech  Engineering  120000                 0.0   \n",
            "1         Intern Analyst     Finance    Analytics   30000                 0.0   \n",
            "2      Mid-Level Manager      Retail   Management   80000                 0.0   \n",
            "3     Executive Director  Healthcare   Leadership  200000                 1.0   \n",
            "4  Entry Level Developer        Tech  Engineering   60000                 0.0   \n",
            "\n",
            "   salary_range_20k-40k  salary_range_40k-70k  salary_range_70k-100k  \n",
            "0                   0.0                   0.0                    0.0  \n",
            "1                   1.0                   0.0                    0.0  \n",
            "2                   0.0                   0.0                    1.0  \n",
            "3                   0.0                   0.0                    0.0  \n",
            "4                   0.0                   1.0                    0.0  \n"
          ]
        }
      ]
    },
    {
      "cell_type": "code",
      "source": [
        "from sklearn.model_selection import train_test_split\n",
        "from sklearn.linear_model import LinearRegression\n",
        "\n",
        "# Features (encoded salary ranges) and target (salary)\n",
        "X = job_desc_df_encoded.drop(columns=['title', 'industry', 'department', 'salary'])\n",
        "y = job_desc_df_encoded['salary']\n",
        "\n",
        "# Split data\n",
        "X_train, X_test, y_train, y_test = train_test_split(X, y, test_size=0.3, random_state=42)\n",
        "\n",
        "# Train model\n",
        "model = LinearRegression()\n",
        "model.fit(X_train, y_train)\n",
        "\n",
        "# Evaluate\n",
        "print(\"R^2 Score on Test Set:\", model.score(X_test, y_test))"
      ],
      "metadata": {
        "colab": {
          "base_uri": "https://localhost:8080/"
        },
        "id": "tI0jXEw5Diov",
        "outputId": "f878bcfe-9700-43c0-e902-53eccd963f26"
      },
      "execution_count": null,
      "outputs": [
        {
          "output_type": "stream",
          "name": "stdout",
          "text": [
            "R^2 Score on Test Set: -25.000000000000007\n"
          ]
        }
      ]
    },
    {
      "cell_type": "code",
      "source": [
        "dept_encoder = OneHotEncoder(sparse_output=False, drop='first')\n",
        "encoded_dept = dept_encoder.fit_transform(job_desc_df[['department']])\n",
        "encoded_dept_df = pd.DataFrame(encoded_dept, columns=dept_encoder.get_feature_names_out(['department']))\n",
        "X = pd.concat([encoded_salary_df, encoded_dept_df], axis=1)"
      ],
      "metadata": {
        "id": "0_BUjieUDmMt"
      },
      "execution_count": null,
      "outputs": []
    },
    {
      "cell_type": "markdown",
      "source": [
        "#### `requirements` Column"
      ],
      "metadata": {
        "id": "7U_i0KDEBmbX"
      }
    },
    {
      "cell_type": "code",
      "source": [
        "#Changing 'NaN' values to the 'Not Provided' string\n",
        "job_desc_df['requirements'] = job_desc_df['requirements'].fillna('Not Provided')\n",
        "\n",
        "#Sanity Check\n",
        "assert job_desc_df['requirements'].isna().sum() == 0, 'NaN values in `requirements` column'"
      ],
      "metadata": {
        "id": "ejhlRI8PBpI3"
      },
      "execution_count": null,
      "outputs": []
    },
    {
      "cell_type": "markdown",
      "source": [
        "#### `benefits` Column"
      ],
      "metadata": {
        "id": "GDETeFBpDK_p"
      }
    },
    {
      "cell_type": "code",
      "source": [
        "#Changing 'NaN' and other values indicating a lack of information to the 'Not Provided' string\n",
        "job_desc_df['benefits'] = job_desc_df['benefits'].replace(['nan', '...'], np.nan)\n",
        "job_desc_df['benefits'] = job_desc_df['benefits'].fillna('Not Provided')\n",
        "\n",
        "#Sanity Check\n",
        "assert job_desc_df['benefits'].isna().sum() == 0, 'NaN values in `benefits` column'"
      ],
      "metadata": {
        "id": "M42h9l64DNsZ"
      },
      "execution_count": null,
      "outputs": []
    },
    {
      "cell_type": "markdown",
      "source": [
        "#### `employment_type` Column"
      ],
      "metadata": {
        "id": "I4qNvwYJYAec"
      }
    },
    {
      "cell_type": "code",
      "source": [
        "#Chaning `NaN` values to 'Not Provided'\n",
        "job_desc_df['employment_type'] = job_desc_df['employment_type'].replace(['nan'], np.nan)\n",
        "job_desc_df['employment_type'] = job_desc_df['employment_type'].fillna('Not Provided')\n",
        "\n",
        "#Sanity Check\n",
        "assert job_desc_df['employment_type'].isna().sum() == 0, 'NaN values in `employment_type` column'"
      ],
      "metadata": {
        "id": "31SitlkYYDD7"
      },
      "execution_count": null,
      "outputs": []
    },
    {
      "cell_type": "markdown",
      "source": [
        "#### `required_experience` Column"
      ],
      "metadata": {
        "id": "cEFaZ5FvZs91"
      }
    },
    {
      "cell_type": "code",
      "source": [
        "#Changing values\n",
        "job_desc_df['required_experience'] = job_desc_df['required_experience'].replace(['nan'], np.nan)\n",
        "job_desc_df['required_experience'] = job_desc_df['required_experience'].fillna('Not Provided')\n",
        "#Sanity Check\n",
        "assert job_desc_df['required_experience'].isna().sum() == 0, 'NaN values in `required_experience` column'"
      ],
      "metadata": {
        "id": "UVWOVRwSZwjd"
      },
      "execution_count": null,
      "outputs": []
    },
    {
      "cell_type": "markdown",
      "source": [
        "#### `required_education` Column"
      ],
      "metadata": {
        "id": "bFC6DgIXadAe"
      }
    },
    {
      "cell_type": "code",
      "source": [
        "#Changing values\n",
        "job_desc_df['required_education'] = job_desc_df['required_education'].replace(['nan'], np.nan)\n",
        "job_desc_df['required_education'] = job_desc_df['required_education'].fillna('Not Provided')\n",
        "\n",
        "#Sanity Check\n",
        "assert job_desc_df['required_education'].isna().sum() == 0, 'NaN values in `required_education` column'"
      ],
      "metadata": {
        "id": "Z_WDhD0Kagje"
      },
      "execution_count": null,
      "outputs": []
    },
    {
      "cell_type": "markdown",
      "source": [
        "#### `industry` Column"
      ],
      "metadata": {
        "id": "CGXWUekKa06G"
      }
    },
    {
      "cell_type": "code",
      "source": [
        "#Changing values\n",
        "job_desc_df['industry'] = job_desc_df['industry'].replace(['nan'], np.nan)\n",
        "job_desc_df['industry'] = job_desc_df['industry'].fillna('Not Provided')\n",
        "\n",
        "#Sanity Check\n",
        "assert job_desc_df['industry'].isna().sum() == 0, 'NaN values in `industry` column'"
      ],
      "metadata": {
        "id": "KIi3cr-Oa4iW"
      },
      "execution_count": null,
      "outputs": []
    },
    {
      "cell_type": "markdown",
      "source": [
        "####Correlation Column"
      ],
      "metadata": {
        "id": "YFdWKgEgobwF"
      }
    },
    {
      "cell_type": "code",
      "source": [
        "# Load dataset\n",
        "file_path = \"/content/drive/Shareddrives/Project 2/Copy of cleaned_fake_job_postings.csv\"\n",
        "df = pd.read_csv(file_path)\n",
        "\n",
        "# Selecting relevant numerical columns for correlation analysis\n",
        "numerical_cols = df.select_dtypes(include=['number']).columns\n",
        "\n",
        "df_numerical = df[numerical_cols]\n",
        "\n",
        "# Compute correlation matrix\n",
        "corr_matrix = df_numerical.corr()\n",
        "\n",
        "# Extract correlation with the 'fraudulent' column\n",
        "fraud_correlation = corr_matrix['fraudulent'].drop('fraudulent').sort_values(ascending=False)\n",
        "\n",
        "# Display the correlation of attributes with real job postings\n",
        "print(\"Correlation of attributes with job authenticity (real job postings):\")\n",
        "print(fraud_correlation.round(2))"
      ],
      "metadata": {
        "id": "VRwNhjwjojLw"
      },
      "execution_count": null,
      "outputs": []
    }
  ]
}